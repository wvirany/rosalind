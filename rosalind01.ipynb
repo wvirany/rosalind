{
  "nbformat": 4,
  "nbformat_minor": 0,
  "metadata": {
    "colab": {
      "provenance": [],
      "authorship_tag": "ABX9TyOWJexh2D3z6TZFfZIJc8cb",
      "include_colab_link": true
    },
    "kernelspec": {
      "name": "python3",
      "display_name": "Python 3"
    },
    "language_info": {
      "name": "python"
    }
  },
  "cells": [
    {
      "cell_type": "markdown",
      "metadata": {
        "id": "view-in-github",
        "colab_type": "text"
      },
      "source": [
        "<a href=\"https://colab.research.google.com/github/wvirany/rosalind/blob/main/rosalind01.ipynb\" target=\"_parent\"><img src=\"https://colab.research.google.com/assets/colab-badge.svg\" alt=\"Open In Colab\"/></a>"
      ]
    },
    {
      "cell_type": "markdown",
      "source": [
        "# **Rosalind \\#1**\n",
        "### A Rapid Introduction to Molecular Biology\n",
        "\n",
        "---\n",
        "\n",
        "\n",
        "\n",
        "### New Terms:\n",
        "\n",
        "\n",
        "*   cell - the \"building block of life\" making up all living things on earth\n",
        "*   nucleus - the central \"brain\" of a eukaryotic cell, which contains the cell's DNA\n",
        "*   eukaryote - forms the most complex domain of life, which includes all multicellular organisms\n",
        "*   chromatin - the dense collection of nucleic acids and proteins found in the nucleus\n",
        "*   mitosis - the process of eukaryotic cell division\n",
        "*   chromosome - a tightly coiled structure of DNA\n",
        "\n"
      ],
      "metadata": {
        "id": "Di2li4Nngj3T"
      }
    },
    {
      "cell_type": "code",
      "execution_count": null,
      "metadata": {
        "id": "8FdA9OQOgh0Q"
      },
      "outputs": [],
      "source": []
    }
  ]
}