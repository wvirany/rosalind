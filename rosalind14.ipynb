{
  "nbformat": 4,
  "nbformat_minor": 0,
  "metadata": {
    "colab": {
      "provenance": [],
      "authorship_tag": "ABX9TyMuetfl/2wsqLd7hccrs4mM",
      "include_colab_link": true
    },
    "kernelspec": {
      "name": "python3",
      "display_name": "Python 3"
    },
    "language_info": {
      "name": "python"
    }
  },
  "cells": [
    {
      "cell_type": "markdown",
      "metadata": {
        "id": "view-in-github",
        "colab_type": "text"
      },
      "source": [
        "<a href=\"https://colab.research.google.com/github/wvirany/rosalind/blob/rosalind14/rosalind14.ipynb\" target=\"_parent\"><img src=\"https://colab.research.google.com/assets/colab-badge.svg\" alt=\"Open In Colab\"/></a>"
      ]
    },
    {
      "cell_type": "markdown",
      "source": [
        "# Finding a Shared Motif\n",
        "\n",
        "---\n",
        "\n",
        "## Problem:\n",
        "\n",
        "`Given`: A collection of k $\\leq$ 100 DNA strings of length at most 1 kbp in FASTA format.\n",
        "\n",
        "`Return`: A longest common substring of the collection."
      ],
      "metadata": {
        "id": "4RCc197KhdZ5"
      }
    },
    {
      "cell_type": "code",
      "source": [
        "import numpy as np"
      ],
      "metadata": {
        "id": "6FcbEdo0ouzx"
      },
      "execution_count": 36,
      "outputs": []
    },
    {
      "cell_type": "code",
      "execution_count": 67,
      "metadata": {
        "id": "wneDdpv9hW6P"
      },
      "outputs": [],
      "source": [
        "# Parsing Data\n",
        "\n",
        "data = open('rosalind_lcsm.txt', 'r')\n",
        "raw = data.read()\n",
        "\n",
        "id = []\n",
        "d = []\n",
        "\n",
        "for seqblock in raw.split(\">\")[1:]:\n",
        "\n",
        "    parts = seqblock.split(\"\\n\")\n",
        "\n",
        "    fasta = parts[0]\n",
        "    seq = ''.join(parts[1:])\n",
        "\n",
        "    id.append(fasta)\n",
        "    d.append(seq)\n",
        "\n",
        "data.close()"
      ]
    },
    {
      "cell_type": "code",
      "source": [
        "substrings = []\n",
        "common_substr = []\n",
        "\n",
        "for i in d:\n",
        "  for j in d:\n",
        "    if i != j:\n",
        "      substr = ''\n",
        "      for k in range(len(i)):\n",
        "        if i[k:] in j:\n",
        "          overlap = i[k:]\n",
        "          if len(overlap) > len(substr):\n",
        "            substr = overlap\n",
        "\n",
        "      substrings.append(substr)\n",
        "\n",
        "for i in substrings:\n",
        "  if substrings.count(i) >= len(d):\n",
        "    common_substr.append(i)"
      ],
      "metadata": {
        "id": "0k66gA9Jh4me"
      },
      "execution_count": 68,
      "outputs": []
    },
    {
      "cell_type": "markdown",
      "source": [
        "Not my most elegent implementation ever :-)"
      ],
      "metadata": {
        "id": "hge9yMiFpOR8"
      }
    },
    {
      "cell_type": "code",
      "source": [
        "common_substr"
      ],
      "metadata": {
        "colab": {
          "base_uri": "https://localhost:8080/"
        },
        "id": "LSqfyUjspQ84",
        "outputId": "db4fba93-83ed-40e9-8c26-05192c6c8cb3"
      },
      "execution_count": 69,
      "outputs": [
        {
          "output_type": "execute_result",
          "data": {
            "text/plain": [
              "[]"
            ]
          },
          "metadata": {},
          "execution_count": 69
        }
      ]
    },
    {
      "cell_type": "code",
      "source": [],
      "metadata": {
        "id": "b1DTIRGKqY4O"
      },
      "execution_count": null,
      "outputs": []
    }
  ]
}