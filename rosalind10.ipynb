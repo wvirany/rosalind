{
  "nbformat": 4,
  "nbformat_minor": 0,
  "metadata": {
    "colab": {
      "provenance": [],
      "authorship_tag": "ABX9TyN4gcBIUClXDfFb2GHV//ZN",
      "include_colab_link": true
    },
    "kernelspec": {
      "name": "python3",
      "display_name": "Python 3"
    },
    "language_info": {
      "name": "python"
    }
  },
  "cells": [
    {
      "cell_type": "markdown",
      "metadata": {
        "id": "view-in-github",
        "colab_type": "text"
      },
      "source": [
        "<a href=\"https://colab.research.google.com/github/wvirany/rosalind/blob/rosalind10/rosalind10.ipynb\" target=\"_parent\"><img src=\"https://colab.research.google.com/assets/colab-badge.svg\" alt=\"Open In Colab\"/></a>"
      ]
    },
    {
      "cell_type": "markdown",
      "source": [
        "# Consensus and Profile\n",
        "---\n",
        "\n",
        "(Double digits!)\n",
        "\n",
        "### New Terms:\n",
        "* profile matrix - a matrix encoding the number of times that each symbol of an alphabet occurs in each position from a collection of strings\n",
        "* consensus string - a string formed from a collection of equal-lengthed strings by taking the most common symbol at each point\n",
        "\n",
        "### Problem:\n",
        "\n",
        "`Given`: A collection of at most 10 DNA strings of equal length (at most 1 kbp) in FASTA format\n",
        "\n",
        "`Return`: A consensus string and profile matrix for the collection"
      ],
      "metadata": {
        "id": "DzNVgnRr90Zb"
      }
    },
    {
      "cell_type": "code",
      "source": [
        "import numpy as np"
      ],
      "metadata": {
        "id": "v3kuKJ7EYHr0"
      },
      "execution_count": null,
      "outputs": []
    },
    {
      "cell_type": "code",
      "source": [
        "# Parsing Data\n",
        "\n",
        "data = open('sample_data.txt', 'r')\n",
        "raw = data.read()\n",
        "\n",
        "d = []\n",
        "\n",
        "for seqblock in raw.split(\">\")[1:]:\n",
        "\n",
        "    parts = seqblock.split(\"\\n\")\n",
        "\n",
        "    fasta = parts[0]\n",
        "    seq = ''.join(parts[1:])\n",
        "\n",
        "    d.append(seq)\n",
        "\n",
        "data.close()"
      ],
      "metadata": {
        "colab": {
          "base_uri": "https://localhost:8080/"
        },
        "id": "Ar59uK4WLetH",
        "outputId": "7da25374-c1fd-4d9a-b094-a9e96baf8176"
      },
      "execution_count": null,
      "outputs": [
        {
          "output_type": "stream",
          "name": "stdout",
          "text": [
            "['ATCCAGCT', 'GGGCAACT', 'ATGGATCT', 'AAGCAACC', 'TTGGAACT', 'ATGCCATT', 'ATGGCACT']\n"
          ]
        }
      ]
    },
    {
      "cell_type": "code",
      "source": [
        "# Constructing Profile Matrix and Consensus String\n",
        "\n",
        "num_seqs = len(d)\n",
        "seq_length = len(d[0])\n",
        "profile_matrix = []\n",
        "consensus = ''\n",
        "\n",
        "for i in range(num_seq):\n",
        "\n",
        "  if d[\n",
        "\n",
        "\n",
        "\n",
        "print(profile_matrix)"
      ],
      "metadata": {
        "colab": {
          "base_uri": "https://localhost:8080/",
          "height": 140
        },
        "id": "hk2ZeYwpL54j",
        "outputId": "56fbf278-9630-499c-fd0b-f78a5f810439"
      },
      "execution_count": null,
      "outputs": [
        {
          "output_type": "error",
          "ename": "SyntaxError",
          "evalue": "ignored",
          "traceback": [
            "\u001b[0;36m  File \u001b[0;32m\"<ipython-input-106-1585629c4966>\"\u001b[0;36m, line \u001b[0;32m14\u001b[0m\n\u001b[0;31m    print(profile_matrix)\u001b[0m\n\u001b[0m                         ^\u001b[0m\n\u001b[0;31mSyntaxError\u001b[0m\u001b[0;31m:\u001b[0m incomplete input\n"
          ]
        }
      ]
    },
    {
      "cell_type": "code",
      "source": [],
      "metadata": {
        "id": "Muuh-VZBWD21"
      },
      "execution_count": null,
      "outputs": []
    }
  ]
}