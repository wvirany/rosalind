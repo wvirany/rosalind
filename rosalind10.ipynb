{
  "nbformat": 4,
  "nbformat_minor": 0,
  "metadata": {
    "colab": {
      "provenance": [],
      "authorship_tag": "ABX9TyPE49pTs7y5u5jZQdesho+m",
      "include_colab_link": true
    },
    "kernelspec": {
      "name": "python3",
      "display_name": "Python 3"
    },
    "language_info": {
      "name": "python"
    }
  },
  "cells": [
    {
      "cell_type": "markdown",
      "metadata": {
        "id": "view-in-github",
        "colab_type": "text"
      },
      "source": [
        "<a href=\"https://colab.research.google.com/github/wvirany/rosalind/blob/rosalind10/rosalind10.ipynb\" target=\"_parent\"><img src=\"https://colab.research.google.com/assets/colab-badge.svg\" alt=\"Open In Colab\"/></a>"
      ]
    },
    {
      "cell_type": "markdown",
      "source": [
        "# Consensus and Profile\n",
        "---\n",
        "\n",
        "(Double digits!)\n",
        "\n",
        "### New Terms:\n",
        "* profile matrix - a matrix encoding the number of times that each symbol of an alphabet occurs in each position from a collection of strings\n",
        "* consensus string - a string formed from a collection of equal-lengthed strings by taking the most common symbol at each point\n",
        "\n",
        "### Problem:\n",
        "\n",
        "`Given`: A collection of at most 10 DNA strings of equal length (at most 1 kbp) in FASTA format\n",
        "\n",
        "`Return`: A consensus string and profile matrix for the collection"
      ],
      "metadata": {
        "id": "DzNVgnRr90Zb"
      }
    },
    {
      "cell_type": "code",
      "source": [
        "import numpy as np"
      ],
      "metadata": {
        "id": "v3kuKJ7EYHr0"
      },
      "execution_count": 2,
      "outputs": []
    },
    {
      "cell_type": "code",
      "source": [
        "# Parsing Data\n",
        "\n",
        "data = open('rosalind_cons.txt', 'r')\n",
        "raw = data.read()\n",
        "\n",
        "d = []\n",
        "\n",
        "for seqblock in raw.split(\">\")[1:]:\n",
        "\n",
        "    parts = seqblock.split(\"\\n\")\n",
        "\n",
        "    fasta = parts[0]\n",
        "    seq = ''.join(parts[1:])\n",
        "\n",
        "    d.append(seq)\n",
        "\n",
        "data.close()"
      ],
      "metadata": {
        "id": "Ar59uK4WLetH"
      },
      "execution_count": 119,
      "outputs": []
    },
    {
      "cell_type": "code",
      "source": [
        "# Constructing Profile Matrix and Consensus String\n",
        "\n",
        "num_seqs = len(d)\n",
        "seq_length = len(d[0])\n",
        "profile_matrix = np.zeros((seq_length, 4), dtype=int)\n",
        "consensus = ''\n",
        "strings = []\n",
        "nucleotides = ['A', 'C', 'G', 'T']\n",
        "\n",
        "for i in range(seq_length):\n",
        "\n",
        "  counts = [0, 0, 0, 0]\n",
        "\n",
        "  for j in d:\n",
        "\n",
        "    if j[i] == 'A': counts[0] +=1\n",
        "    elif j[i] == 'C': counts[1] +=1\n",
        "    elif j[i] == 'G': counts[2] +=1\n",
        "    elif j[i] == 'T': counts[3] +=1\n",
        "\n",
        "  profile_matrix[i] = counts\n",
        "\n",
        "  max_count = np.max(counts)\n",
        "\n",
        "  for i,j in enumerate(counts):\n",
        "    if j == max_count:\n",
        "      consensus += nucleotides[i]\n",
        "      break\n",
        "\n",
        "print(consensus)\n",
        "\n",
        "for i, j in enumerate(profile_matrix.transpose()):\n",
        "  print(nucleotides[i] + ':', *j)"
      ],
      "metadata": {
        "colab": {
          "base_uri": "https://localhost:8080/"
        },
        "id": "hk2ZeYwpL54j",
        "outputId": "080650a0-79f8-4add-d13e-5930dc9b555f"
      },
      "execution_count": 120,
      "outputs": [
        {
          "output_type": "stream",
          "name": "stdout",
          "text": [
            "AAGTGCCCAGGCTATAATCGCGAACTCGAATCGGGAACGCGCACGGATAGCGGTGAATCGACCAGGGATCACGCCGTGAACAATCGAAACGAAACCCAAGGGGTATGATTCCGATTTCGACTCACCCATAATTCACTTCATAAAGCTGTAAATGTTCAATAGAAATGTGGTAATATTAAGAACCCAACAAGCCTGCTACAGCCTGACCAGAGAGTTCTTAAATACGTCGTGATAAACACGGCGCAAGCCACGAATGAATAGCAGACCTGACTACATATACCAACCTAACCACAGATGAAAACCACATGCCTAGTTACATTGACGCGTTCCGTTTTGAGCAGACATATGAAACTAGCACACCTTCATAAGTCAACAATGACGAGAAAACCAGGAGACGCCGGCCCCCATCCGGATAGAACAAAAAACCTCGACGTCCCCGGGCCTCTACACAACACCATAGGACCTCCCCAAACACATGAGACGATTAGATCCCAAAATCAACCAACCTACACCCCTTGCACTACCCCACAATGGGCCCTCCCGAAACTAATAAGTGTACTCACAAGAGCACATGAGTCTGCGGTTACGACAAAAGGCCGGGCGGACAACAAGAAACCAATCATATGAACATGCCAGCCCGCACATGCATAGCAAATGGGAGAGAGCGATCATATCAAATAAAAACAACTATCAGCATAGATCGAAAGCTTGGCTAGCCCAATTAGACGAATACTTCCCGCGAATTGGACGGCACGATCACAATAAAAGGCCACTGTACTCGCCAGCAGTAACTGCCACGTTACTCCACACAAATCCTCCAAGGGGACACAAAAGTATAATCAAGGATCGCAAATTGTAGCGACACGACGAAAAGCCGAAGTACGGCCATTACCAGCCGAACTGTTATCCCAACCACAGGAATTAACAGACAAAAGATCGAGCTCTAAAAAACCCCTACTAAA\n",
            "A: 4 4 3 1 0 2 1 1 3 2 3 3 1 4 1 5 5 3 3 1 2 3 3 5 3 1 2 2 5 4 3 2 0 2 3 6 5 2 2 1 1 3 4 2 3 1 3 2 4 2 2 2 2 3 1 4 4 2 3 1 4 2 1 4 2 2 1 4 0 3 3 1 2 3 2 1 1 1 4 6 1 4 3 1 0 0 4 3 4 2 2 6 4 5 0 1 0 4 3 1 2 2 3 3 5 3 2 4 2 3 3 2 2 5 0 3 3 3 3 4 3 2 1 3 0 3 2 6 3 3 3 1 1 1 4 3 2 2 2 4 0 3 3 3 2 0 2 2 2 3 5 4 1 2 2 3 3 3 4 1 5 1 4 4 3 3 1 2 2 2 2 3 5 4 3 1 1 4 4 2 6 3 2 3 2 3 3 2 5 5 1 4 3 3 3 1 1 4 1 4 2 1 0 2 2 4 3 3 5 2 5 0 4 2 3 1 2 1 1 3 3 3 2 3 1 3 2 2 2 2 1 4 4 4 3 4 0 4 3 2 0 1 1 2 3 3 2 3 3 5 2 2 4 4 2 1 5 5 2 4 3 2 3 2 3 2 3 3 4 3 2 1 5 3 3 2 3 2 4 2 1 4 5 1 2 2 5 4 2 2 3 2 4 0 4 2 3 6 5 3 5 3 2 3 1 5 1 3 3 2 2 3 2 1 2 5 0 3 1 2 1 6 2 1 2 1 2 2 3 2 1 1 2 3 2 3 3 1 1 5 2 3 3 6 1 3 2 3 4 3 4 3 2 5 2 3 4 1 3 1 0 2 1 2 3 2 3 4 2 2 2 3 3 0 5 4 3 2 3 0 1 3 2 3 3 4 5 2 2 4 3 2 3 2 5 1 0 2 3 2 3 2 2 1 3 2 6 2 2 1 2 3 4 2 3 1 4 3 2 5 4 3 3 3 4 2 2 3 2 1 3 2 2 3 3 2 1 2 2 1 2 2 2 3 1 0 3 1 5 3 4 4 1 3 1 3 4 2 5 1 1 5 2 0 3 1 1 2 2 3 5 4 1 4 2 3 1 0 4 3 6 2 1 4 3 1 4 2 3 3 1 2 1 3 4 3 4 2 0 4 5 1 2 5 8 2 1 1 5 2 5 2 2 2 3 2 2 0 2 4 3 2 4 2 3 2 2 4 2 4 5 2 1 1 2 2 1 2 2 3 2 2 3 4 4 4 1 1 3 4 2 3 5 1 1 2 3 4 1 3 1 3 1 5 4 3 4 3 1 4 2 4 4 2 4 2 2 3 2 3 1 1 2 3 2 3 2 3 3 3 5 3 3 3 1 1 3 2 1 2 2 1 2 2 6 2 3 5 0 3 5 3 4 3 4 1 1 3 5 2 2 3 0 3 2 1 5 4 2 4 1 3 1 1 4 1 2 1 2 3 2 5 1 4 2 2 2 4 3 3 2 2 4 4 4 2 2 3 1 3 3 4 3 5 1 2 0 4 1 2 4 3 5 2 3 5 5 4 2 5 4 4 3 4 2 4 3 1 2 3 1 1 4 3 2 5 2 4 3 4 2 3 2 3 4 4 3 2 1 1 0 1 3 2 5 2 1 2 2 3 3 1 2 3 1 3 1 2 4 3 3 4 2 1 3 3 1 3 3 0 1 4 4 2 2 3 3 3 3 1 0 2 3 1 1 5 1 1 6 2 3 3 2 4 4 3 4 1 1 2 2 5 2 1 3 1 4 2 2 2 2 2 2 5 3 3 5 3 2 5 3 0 1 2 2 1 5 1 1 1 2 3 1 2 2 3 3 2 6 1 5 5 3 2 2 2 2 2 1 3 4 1 0 1 3 4 3 3 0 6 3 5 5 1 3 3 2 3 3 2 3 5 4 2 1 5 1 1 2 4 5 3 4 1 3 2 2 3 2 2 1 4 1 4 1 2 3 1 2 5 3 5 3 2 0 2 2 3 4 2 1 3 0 3 2 2 1 5 1 2 3 0 1 5 1 1 2 1 4 3 2 3 1 1 1 3 2 1 2 2 4 4 3 0 4 2 4 1 2 3 3 0 2 4 3 2 3 1 5 1 3 7 6 5 3 3 2 0 2 4 2 1 1 1 1 3 3 4 3 4 6 2 2 2 2 2 4 3 1 4 4 4\n",
            "C: 2 2 3 1 3 3 5 4 3 3 1 4 2 2 2 2 1 1 4 2 6 0 3 1 4 3 5 2 3 2 1 3 2 1 2 0 3 3 2 5 1 4 1 4 1 3 2 3 1 2 6 1 2 2 1 3 2 2 4 1 2 3 4 3 1 2 3 1 2 5 3 3 3 4 4 3 3 3 3 1 3 2 2 3 4 3 1 3 1 3 2 1 1 3 5 4 4 0 3 2 1 2 1 2 1 1 1 3 1 2 4 5 2 2 2 1 0 4 1 1 4 1 4 3 4 4 5 1 1 2 2 3 2 4 1 4 1 2 4 2 3 2 3 2 3 5 3 2 2 2 1 2 3 2 1 2 5 3 2 2 4 2 1 1 2 2 3 1 0 3 1 3 1 1 3 2 3 2 3 2 0 3 4 5 5 1 3 3 3 2 1 5 5 1 2 3 2 0 7 3 2 4 6 2 3 1 4 5 2 3 2 2 1 3 2 3 3 3 2 3 2 2 1 3 4 2 3 4 2 3 3 3 0 1 1 2 6 3 4 2 2 4 2 3 3 3 2 4 4 4 3 2 1 3 3 0 0 3 3 2 0 5 3 1 2 3 6 2 1 3 3 0 0 4 1 3 3 2 4 4 4 3 1 4 5 2 2 1 4 3 2 4 2 3 1 2 0 2 1 2 1 5 3 2 4 1 3 2 4 4 1 2 0 2 2 4 4 2 2 3 3 0 4 3 5 3 1 2 4 4 2 3 2 1 2 0 3 3 4 2 3 3 4 3 2 3 3 0 1 2 3 4 2 2 2 4 1 4 2 5 4 1 4 5 2 2 2 2 2 2 4 2 2 5 1 2 1 2 1 5 2 3 2 3 3 3 0 3 6 4 1 2 3 2 1 5 2 4 4 0 2 4 4 6 4 4 3 2 5 3 1 2 0 0 3 1 3 3 5 2 0 2 1 2 3 5 3 1 5 3 3 4 2 1 5 3 4 4 2 2 2 3 4 1 4 3 2 4 1 4 1 1 3 3 3 4 1 2 3 2 3 2 3 4 1 4 4 3 4 2 3 1 3 0 3 3 3 0 1 1 2 3 2 3 2 2 2 3 2 3 5 5 4 2 2 1 2 2 4 1 3 4 3 1 2 3 4 2 1 4 3 5 3 3 4 2 2 3 3 2 4 3 0 3 4 4 3 2 3 0 1 1 3 1 3 3 3 3 2 4 3 5 1 1 1 3 4 2 2 4 2 1 1 3 2 2 2 0 4 2 3 3 5 1 2 0 1 2 4 1 4 3 0 2 1 2 1 4 3 2 5 2 1 2 3 3 3 1 3 4 2 2 2 2 3 3 4 3 1 1 0 6 2 2 2 3 3 2 4 2 1 1 1 2 2 5 4 1 2 1 4 3 3 3 0 1 1 3 4 3 3 1 5 6 3 1 4 3 5 1 3 1 4 2 2 3 3 2 2 2 2 3 2 0 3 0 2 1 2 2 3 3 0 2 3 4 3 3 1 3 0 1 1 2 5 1 2 3 2 1 2 2 1 2 5 2 3 4 1 3 2 5 1 1 3 0 3 4 2 3 2 6 2 2 1 2 1 6 2 2 3 0 5 1 2 2 4 4 3 2 2 3 2 3 1 2 5 2 3 2 2 3 3 1 2 4 4 4 2 4 0 1 1 1 1 1 1 1 4 2 1 4 3 4 4 3 3 4 1 5 1 2 2 1 1 3 2 1 2 4 3 0 3 2 2 2 1 4 2 3 2 3 4 0 1 4 2 3 1 1 1 4 0 1 3 5 1 3 3 2 2 2 5 3 3 5 3 5 1 4 2 1 3 2 4 4 2 4 4 2 3 3 2 2 2 2 4 2 4 1 2 2 1 2 1 2 1 2 1 2 5 1 2 2 1 3 1 6 2 5 1 3 2 2 2 2 2 2 1 3 3 2 5 2 5 2 2 4 2 1 3 1 2 2 6 4 2 2 0 3 1 2 4 2 2 4 5 3 3 1 3 4 4 0 3 4 6 2 2 2 5 1 2 3 1 2 1 4 3 5 2 2 4 6 2 4 2 3 3 3 2 3 3 2 3 3 2 3 1 3 2 1 1 3 2 3 0 5 3 1 3 5 2 3 2 1 3 1 2 1 1 3 3 3 6 1 1 4 2 1 3 2\n",
            "G: 1 3 4 2 6 3 1 2 2 4 5 2 3 3 2 2 4 1 1 4 0 4 2 4 2 2 2 5 1 1 2 2 5 5 4 2 2 3 5 4 4 3 2 3 5 4 2 1 2 3 1 6 3 1 4 1 2 1 3 4 2 3 2 2 4 3 4 3 2 2 3 3 4 1 3 5 2 4 1 2 3 2 3 2 3 5 4 1 3 2 3 2 4 0 0 3 4 4 3 4 4 4 5 1 1 2 4 2 2 1 0 1 3 1 3 2 1 2 4 3 2 3 3 2 3 2 1 2 2 3 3 1 2 2 3 3 2 2 2 4 1 2 3 2 4 1 1 3 1 3 2 3 1 3 2 1 0 1 3 3 1 6 1 4 3 1 4 3 5 4 3 3 2 0 1 2 1 3 2 3 1 1 2 1 0 3 3 2 1 1 4 0 2 2 4 3 3 2 1 1 4 3 1 2 4 4 1 2 3 4 0 5 2 4 1 2 2 2 2 2 3 2 2 2 2 4 0 2 3 1 4 1 1 2 3 1 2 1 0 5 4 3 6 2 1 3 4 0 2 1 3 3 3 2 1 5 2 1 1 1 7 2 3 5 3 3 0 1 5 1 2 2 3 1 3 1 2 1 1 2 2 2 2 2 2 2 1 3 2 2 3 2 2 5 3 2 5 2 2 2 3 1 2 2 3 2 1 5 0 0 3 3 5 1 2 0 3 3 3 1 4 2 1 6 2 5 3 2 3 2 4 1 1 2 2 4 2 4 1 2 4 1 1 0 2 2 0 6 4 3 1 0 2 1 5 1 1 3 2 2 4 3 0 2 3 2 2 3 3 2 1 3 3 1 1 3 2 4 3 2 4 2 4 3 3 1 3 3 2 1 4 4 1 4 0 4 5 4 1 4 4 2 4 1 1 3 1 2 1 3 4 4 4 3 1 5 2 2 1 1 3 2 3 2 1 2 2 2 1 4 2 2 3 2 0 3 1 2 3 5 4 3 1 2 3 3 3 2 3 2 3 4 3 3 3 2 3 2 0 4 5 1 3 2 1 2 3 3 4 3 1 2 3 4 2 2 2 6 3 4 1 2 4 0 1 2 2 4 3 0 3 2 1 2 0 3 3 1 3 2 1 2 2 0 0 3 3 2 3 1 1 0 3 2 1 2 2 4 3 2 1 1 3 2 1 3 3 3 2 3 3 3 4 7 4 2 3 3 2 2 2 2 5 4 2 1 1 3 3 1 2 3 2 5 3 3 1 4 3 1 3 2 1 2 3 5 2 4 3 3 2 1 1 4 4 3 2 0 1 4 3 4 4 1 0 2 2 4 2 3 2 3 3 2 4 4 1 2 6 4 6 0 4 4 2 3 1 2 3 3 2 4 2 3 1 2 2 3 1 3 1 2 3 3 3 7 2 1 1 1 1 5 3 1 3 6 2 3 1 4 3 3 3 1 2 4 3 3 1 2 3 3 1 4 1 3 3 4 5 3 4 2 4 0 4 3 4 0 3 3 4 2 1 2 1 1 2 3 2 2 3 3 3 2 3 1 1 3 2 1 2 2 1 4 2 3 1 2 4 2 2 1 3 2 2 1 4 2 3 3 4 6 1 2 2 4 3 1 2 2 2 2 2 1 4 2 4 5 2 3 1 2 3 2 1 1 1 0 4 4 5 3 1 2 1 4 5 3 2 4 6 2 2 1 5 2 1 2 1 2 3 2 2 4 4 2 2 4 5 2 2 1 2 3 4 2 3 1 2 3 4 3 3 1 4 2 2 4 3 3 3 3 2 6 3 0 2 3 6 3 2 2 3 0 2 1 1 1 2 4 2 0 1 1 4 0 1 2 3 3 2 4 5 5 5 1 1 3 4 1 2 2 1 4 2 3 2 3 3 2 1 0 3 3 4 0 3 3 3 1 1 2 2 2 1 3 0 3 5 3 4 0 2 3 2 3 3 2 3 1 1 2 2 5 2 1 3 2 2 4 3 2 4 4 3 2 3 0 2 1 2 2 3 2 5 2 1 4 2 3 1 2 5 1 2 2 2 3 3 1 4 3 3 2 3 1 3 4 4 1 2 3 1 2 2 3 2 5 2 3 3 1 2 1 5 3 3 4 4 2 4 3 3 3 2 3 2 1 3 2 1 3 2 3 1 3 3 3 1 2 2 2\n",
            "T: 3 1 0 6 1 2 3 3 2 1 1 1 4 1 5 1 0 5 2 3 2 3 2 0 1 4 1 1 1 3 4 3 3 2 1 2 0 2 1 0 4 0 3 1 1 2 3 4 3 3 1 1 3 4 4 2 2 5 0 4 2 2 3 1 3 3 2 2 6 0 1 3 1 2 1 1 4 2 2 1 3 2 2 4 3 2 1 3 2 3 3 1 1 2 5 2 2 2 1 3 3 2 1 4 3 4 3 1 5 4 3 2 3 2 5 4 6 1 2 2 1 4 2 2 3 1 2 1 4 2 2 5 5 3 2 0 5 4 2 0 6 3 1 3 1 4 4 3 5 2 2 1 5 3 5 4 2 3 1 4 0 1 4 1 2 4 2 4 3 1 4 1 2 5 3 5 5 1 1 3 3 3 2 1 3 3 1 3 1 2 4 1 0 4 1 3 4 4 1 2 2 2 3 4 1 1 2 0 0 1 3 3 3 1 4 4 3 4 5 2 2 3 5 2 3 1 5 2 3 4 2 2 5 3 3 3 2 2 3 1 4 2 1 3 3 1 2 3 1 0 2 3 2 1 4 4 3 1 4 3 0 1 1 2 2 2 1 4 0 3 3 7 2 2 3 4 2 5 1 2 3 1 2 3 1 4 2 2 2 3 2 2 2 2 2 4 2 0 2 3 1 1 3 3 2 2 5 0 3 4 4 2 3 6 4 1 3 2 4 4 2 2 3 0 1 1 4 4 0 2 3 5 5 4 4 3 2 2 4 1 1 3 2 1 5 2 5 1 1 2 2 3 4 2 1 2 4 2 3 2 2 4 5 1 2 4 3 1 3 4 3 2 2 4 3 1 4 2 3 3 3 2 2 1 1 2 2 2 0 1 2 2 3 2 4 0 3 0 2 4 1 2 0 2 2 1 0 4 2 3 3 1 2 5 3 3 1 2 2 2 3 3 3 3 2 1 3 4 2 2 2 2 3 4 2 2 4 2 3 2 2 2 3 4 2 4 2 3 1 1 2 1 3 1 3 1 2 4 2 3 1 2 2 4 5 3 2 2 0 2 1 3 3 2 3 2 4 4 2 2 1 3 3 3 4 5 2 1 2 4 1 1 4 3 4 3 1 5 3 3 1 3 3 4 0 2 2 5 1 3 1 3 2 3 2 4 4 3 2 2 2 4 3 3 2 1 2 1 3 3 1 4 2 1 1 3 3 2 4 1 3 1 1 1 3 2 4 4 2 1 4 3 2 1 4 3 4 2 2 4 3 2 3 2 1 2 3 1 2 2 2 2 5 2 1 3 5 3 4 1 1 3 3 4 5 2 3 2 2 0 1 2 2 3 2 2 2 3 2 3 2 3 2 2 0 2 3 1 3 2 2 2 3 2 3 2 3 3 2 4 3 2 4 1 5 1 2 2 3 2 5 1 1 2 0 2 2 3 2 2 2 1 2 3 4 1 2 1 4 3 3 2 3 2 2 5 3 2 2 2 0 1 3 3 2 1 3 3 5 2 2 4 3 4 1 3 1 0 4 2 1 1 3 2 0 3 3 2 5 3 5 2 4 2 3 2 4 0 1 1 4 0 3 3 3 3 2 0 4 4 3 3 1 5 1 2 2 3 3 3 3 4 4 3 4 3 0 1 1 2 4 1 2 6 4 2 4 3 1 2 4 2 4 5 6 2 1 3 1 3 3 2 2 4 0 0 5 3 2 1 3 3 4 1 1 2 2 4 2 2 3 4 3 4 1 5 2 3 4 2 2 2 1 4 2 1 1 0 4 1 3 3 7 1 2 4 2 3 0 4 4 3 1 5 3 1 3 2 1 1 1 4 3 5 0 4 5 2 2 2 1 2 3 2 0 3 2 2 2 2 3 1 3 3 4 2 5 2 3 4 1 4 1 3 4 2 5 0 3 0 3 2 2 5 4 3 6 2 2 2 2 4 2 1 2 3 2 3 3 3 3 2 3 1 2 3 3 3 4 1 5 3 2 1 3 2 1 2 4 6 2 4 2 3 1 3 1 3 2 2 2 4 2 5 6 3 5 2 2 2 0 1 0 2 1 3 1 2 1 3 3 4 4 2 2 2 3 1 2 3 2 1 1 1 0 1 5 1 1 3 1 1 4 3 5 3 2 4 2 3 2 2 3 2 1 4 2 0 6 3 1 2\n"
          ]
        }
      ]
    }
  ]
}