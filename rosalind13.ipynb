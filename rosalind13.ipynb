{
  "nbformat": 4,
  "nbformat_minor": 0,
  "metadata": {
    "colab": {
      "provenance": [],
      "include_colab_link": true
    },
    "kernelspec": {
      "name": "python3",
      "display_name": "Python 3"
    },
    "language_info": {
      "name": "python"
    }
  },
  "cells": [
    {
      "cell_type": "markdown",
      "metadata": {
        "id": "view-in-github",
        "colab_type": "text"
      },
      "source": [
        "<a href=\"https://colab.research.google.com/github/wvirany/rosalind/blob/rosalind13/rosalind13.ipynb\" target=\"_parent\"><img src=\"https://colab.research.google.com/assets/colab-badge.svg\" alt=\"Open In Colab\"/></a>"
      ]
    },
    {
      "cell_type": "markdown",
      "source": [
        "# Calculating Expected Offspring\n",
        "\n",
        "---\n",
        "\n",
        "### Problem:\n",
        "\n",
        "`Given`: Six nonnegative integers $\\leq$ 20,000, each representing the number of couples in a population possessing the following genotypes:\n",
        "* AA-AA\n",
        "* AA-Aa\n",
        "* AA-aa\n",
        "* Aa-Aa\n",
        "* Aa-aa\n",
        "* aa-aa\n",
        "\n",
        "\n",
        "`Return:` The expected number of offspring displaying the dominant phenotype in the next generation, under the assumption that every couple has exactly two offspring."
      ],
      "metadata": {
        "id": "wGxiWd85aK6y"
      }
    },
    {
      "cell_type": "code",
      "execution_count": 4,
      "metadata": {
        "id": "byXk-V8gaCTh",
        "outputId": "c23ca59e-c8e9-44c9-f50b-a6fbdd3c5276",
        "colab": {
          "base_uri": "https://localhost:8080/"
        }
      },
      "outputs": [
        {
          "output_type": "execute_result",
          "data": {
            "text/plain": [
              "160145.0"
            ]
          },
          "metadata": {},
          "execution_count": 4
        }
      ],
      "source": [
        "a = [19041, 19206, 19460, 17728, 18139, 19900]\n",
        "p = [1, 1, 1, .75, .5, 0]\n",
        "\n",
        "e_offspring = 0\n",
        "\n",
        "for i, j in zip(a, p):\n",
        "  e_offspring += 2*i*j\n",
        "\n",
        "e_offspring"
      ]
    }
  ]
}