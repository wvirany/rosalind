{
  "nbformat": 4,
  "nbformat_minor": 0,
  "metadata": {
    "colab": {
      "provenance": [],
      "authorship_tag": "ABX9TyMvfDsXFN+kK1X7wkhHEPku",
      "include_colab_link": true
    },
    "kernelspec": {
      "name": "python3",
      "display_name": "Python 3"
    },
    "language_info": {
      "name": "python"
    }
  },
  "cells": [
    {
      "cell_type": "markdown",
      "metadata": {
        "id": "view-in-github",
        "colab_type": "text"
      },
      "source": [
        "<a href=\"https://colab.research.google.com/github/wvirany/rosalind/blob/rosalind13/rosalind13.ipynb\" target=\"_parent\"><img src=\"https://colab.research.google.com/assets/colab-badge.svg\" alt=\"Open In Colab\"/></a>"
      ]
    },
    {
      "cell_type": "markdown",
      "source": [
        "# Calculating Expected Offspring\n",
        "\n",
        "---\n",
        "\n",
        "### Problem:\n",
        "\n",
        "`Given`: Six nonnegative integers $\\leq$ 20,000, each representing the number of couples in a population possessing the following genotypes:\n",
        "* AA-AA\n",
        "* AA-Aa\n",
        "* AA-aa\n",
        "* Aa-Aa\n",
        "* Aa-aa\n",
        "* aa-aa\n",
        "\n",
        "\n",
        "`Return:` The expected number of offspring displaying the dominant phenotype in the next generation, under the assumption that every couple has exactly two offspring."
      ],
      "metadata": {
        "id": "wGxiWd85aK6y"
      }
    },
    {
      "cell_type": "code",
      "execution_count": null,
      "metadata": {
        "id": "byXk-V8gaCTh"
      },
      "outputs": [],
      "source": []
    }
  ]
}