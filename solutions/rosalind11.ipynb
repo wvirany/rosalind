{
  "nbformat": 4,
  "nbformat_minor": 0,
  "metadata": {
    "colab": {
      "provenance": [],
      "authorship_tag": "ABX9TyOmfWFzYyAGYVWjc+HLzRpB",
      "include_colab_link": true
    },
    "kernelspec": {
      "name": "python3",
      "display_name": "Python 3"
    },
    "language_info": {
      "name": "python"
    }
  },
  "cells": [
    {
      "cell_type": "markdown",
      "metadata": {
        "id": "view-in-github",
        "colab_type": "text"
      },
      "source": [
        "<a href=\"https://colab.research.google.com/github/wvirany/rosalind/blob/rosalind11/solutions/rosalind11.ipynb\" target=\"_parent\"><img src=\"https://colab.research.google.com/assets/colab-badge.svg\" alt=\"Open In Colab\"/></a>"
      ]
    },
    {
      "cell_type": "markdown",
      "source": [
        "# Mortal Fibonacci Rabits\n",
        "\n",
        "### Problem:\n",
        "\n",
        "`Given`: Positive integers $n \\leq 100$ and $m \\leq 20$\n",
        "\n",
        "`Return`: The total number of pairs of rabbits that will remain after the $n^{th}$ month if all rabbits live for $m$ months"
      ],
      "metadata": {
        "id": "Vz3yPuWdg79b"
      }
    },
    {
      "cell_type": "code",
      "execution_count": 52,
      "metadata": {
        "id": "tJ2u3UySgSPK"
      },
      "outputs": [],
      "source": [
        "def mortal_rabbits(n, m):\n",
        "\n",
        "  a, b = 1, 1\n",
        "\n",
        "  F = [1, 1]\n",
        "\n",
        "  for i in range(2, n):\n",
        "    if i < m: F.append(F[i-1] + F[i-2])\n",
        "    else: F.append(F[i-1] + F[i-2] - F[i-m])\n",
        "    print(i)\n",
        "\n",
        "  return F\n",
        "\n",
        "def fib_m(n, m):\n",
        ""
      ]
    },
    {
      "cell_type": "code",
      "source": [
        "print(mortal_rabbits(6, 3))"
      ],
      "metadata": {
        "id": "8m8tHzUxhxRr",
        "outputId": "7bb17262-62ea-4300-85eb-b94c36ac09c1",
        "colab": {
          "base_uri": "https://localhost:8080/"
        }
      },
      "execution_count": 53,
      "outputs": [
        {
          "output_type": "stream",
          "name": "stdout",
          "text": [
            "2\n",
            "3\n",
            "4\n",
            "5\n",
            "[1, 1, 2, 2, 3, 3]\n"
          ]
        }
      ]
    },
    {
      "cell_type": "code",
      "source": [],
      "metadata": {
        "id": "LXd6ZwQwkNSj"
      },
      "execution_count": null,
      "outputs": []
    }
  ]
}