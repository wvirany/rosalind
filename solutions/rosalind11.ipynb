{
  "nbformat": 4,
  "nbformat_minor": 0,
  "metadata": {
    "colab": {
      "provenance": [],
      "authorship_tag": "ABX9TyPlymqK+dngAev2+wICILyl",
      "include_colab_link": true
    },
    "kernelspec": {
      "name": "python3",
      "display_name": "Python 3"
    },
    "language_info": {
      "name": "python"
    }
  },
  "cells": [
    {
      "cell_type": "markdown",
      "metadata": {
        "id": "view-in-github",
        "colab_type": "text"
      },
      "source": [
        "<a href=\"https://colab.research.google.com/github/wvirany/rosalind/blob/rosalind11/solutions/rosalind11.ipynb\" target=\"_parent\"><img src=\"https://colab.research.google.com/assets/colab-badge.svg\" alt=\"Open In Colab\"/></a>"
      ]
    },
    {
      "cell_type": "markdown",
      "source": [
        "# Mortal Fibonacci Rabits\n",
        "\n",
        "### Problem:\n",
        "\n",
        "`Given`: Positive integers $n \\leq 100$ and $m \\leq 20$\n",
        "\n",
        "`Return`: The total number of pairs of rabbits that will remain after the $n^{th}$ month if all rabbits live for $m$ months"
      ],
      "metadata": {
        "id": "Vz3yPuWdg79b"
      }
    },
    {
      "cell_type": "code",
      "execution_count": 44,
      "metadata": {
        "id": "tJ2u3UySgSPK"
      },
      "outputs": [],
      "source": [
        "def mortal_rabbits(n, m):\n",
        "\n",
        "  a, b = 1, 1\n",
        "  F = [1, 1]\n",
        "\n",
        "  for i in range(2, n):\n",
        "    if i < m:\n",
        "      F.append(F[i-1] + F[i-2])\n",
        "    elif i == m:\n",
        "      F.append(F[i-1] + F[i-2] - F[i-m])\n",
        "    else:\n",
        "      F.append(F[i-1] + F[i-2] - F[i-m-1])\n",
        "\n",
        "  return F"
      ]
    },
    {
      "cell_type": "code",
      "source": [
        "n, m = 81, 20\n",
        "\n",
        "F = mortal_rabbits(n, m)\n",
        "F.pop()"
      ],
      "metadata": {
        "id": "8m8tHzUxhxRr",
        "outputId": "0f646153-9eb8-4c98-84bc-23dcb7c949d3",
        "colab": {
          "base_uri": "https://localhost:8080/"
        }
      },
      "execution_count": 49,
      "outputs": [
        {
          "output_type": "execute_result",
          "data": {
            "text/plain": [
              "37818759377076029"
            ]
          },
          "metadata": {},
          "execution_count": 49
        }
      ]
    }
  ]
}