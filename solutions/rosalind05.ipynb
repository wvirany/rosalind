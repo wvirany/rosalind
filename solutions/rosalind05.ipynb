{
  "nbformat": 4,
  "nbformat_minor": 0,
  "metadata": {
    "colab": {
      "provenance": [],
      "authorship_tag": "ABX9TyMG0GqV+XujI5auCwVDiS77",
      "include_colab_link": true
    },
    "kernelspec": {
      "name": "python3",
      "display_name": "Python 3"
    },
    "language_info": {
      "name": "python"
    }
  },
  "cells": [
    {
      "cell_type": "markdown",
      "metadata": {
        "id": "view-in-github",
        "colab_type": "text"
      },
      "source": [
        "<a href=\"https://colab.research.google.com/github/wvirany/rosalind/blob/main/solutions/rosalind05.ipynb\" target=\"_parent\"><img src=\"https://colab.research.google.com/assets/colab-badge.svg\" alt=\"Open In Colab\"/></a>"
      ]
    },
    {
      "cell_type": "markdown",
      "source": [
        "# Computing GC Content\n",
        "\n",
        "\n",
        "---\n",
        "\n",
        "\n",
        "### New Terms:\n",
        "* GC-content - the percentage of cytasine and guanine bases in a strand of nucleic acid\n",
        "* FASTA format - a text format used for naming genetic strings in databases"
      ],
      "metadata": {
        "id": "r4XyQemn0vbR"
      }
    },
    {
      "cell_type": "markdown",
      "source": [
        "### Problem:\n",
        "\n",
        "`Given`:\n",
        "\n",
        "`Return`:"
      ],
      "metadata": {
        "id": "eZA5-ara1SVy"
      }
    }
  ]
}