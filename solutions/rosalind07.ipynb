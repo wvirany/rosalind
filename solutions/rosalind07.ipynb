{
  "nbformat": 4,
  "nbformat_minor": 0,
  "metadata": {
    "colab": {
      "provenance": [],
      "authorship_tag": "ABX9TyMnfvcT3z928iXzOpOPwPYt",
      "include_colab_link": true
    },
    "kernelspec": {
      "name": "python3",
      "display_name": "Python 3"
    },
    "language_info": {
      "name": "python"
    }
  },
  "cells": [
    {
      "cell_type": "markdown",
      "metadata": {
        "id": "view-in-github",
        "colab_type": "text"
      },
      "source": [
        "<a href=\"https://colab.research.google.com/github/wvirany/rosalind/blob/main/solutions/rosalind07.ipynb\" target=\"_parent\"><img src=\"https://colab.research.google.com/assets/colab-badge.svg\" alt=\"Open In Colab\"/></a>"
      ]
    },
    {
      "cell_type": "markdown",
      "source": [
        "# Mendel's First Law\n",
        "\n",
        "\n",
        "---\n",
        "\n",
        "\n",
        "### New terms:\n",
        "* blending inheritance - the faulty hereditary theory that stated an individual would exhibit a blend of its parents' traits\n",
        "* factors - the Mendelian unit of heredity\n",
        "* alleles - one of two possible forms of a Mendelian factor (i.e., gene)\n",
        "* Mendel's first law (a.k.a. law of segregation) - every gene has two alleles, one of which derives from each parent\n",
        "* homozygous - having two copies of the same allele for a Mendelian factor\n",
        "* heterozygous - having different alleles for a Mendelian factor\n",
        "* dominant - the allele for a Mendelian factor that supercedes the recessive allele and determines the organism's phenotype\n",
        "* recessive - the allele for a Mendelian trait that is superceded by the dominant allele when determining the organism's phenotype\n",
        "* genotype - an organism's precise genetic makeup\n",
        "* phenotype - the physical manifestation of an organism's genetic makeup\n",
        "* Punnett square - a square representing the different possibilities for alleles of offspring given the alleles of both parents"
      ],
      "metadata": {
        "id": "523GqMF-M3Zg"
      }
    },
    {
      "cell_type": "markdown",
      "source": [
        "### Problem:\n",
        "\n",
        "`Given`: Three positive integers $k$, $m$, and $n$, representing a population containing $k + m + n$ organisms: $k$ individuals are homozygous dominant for a factor, $m$ are heterozygous, and $n$ are homozygous recessive\n",
        "\n",
        "`Returns`: The probability that two randomly selected mating organisms will produce an indivudal possessing a dominant allele (and thus displaying the dominant phenotype)."
      ],
      "metadata": {
        "id": "B_RR7OsGilKM"
      }
    },
    {
      "cell_type": "code",
      "execution_count": 40,
      "metadata": {
        "id": "o9yirfsSMtsZ"
      },
      "outputs": [],
      "source": [
        "def p_recessive(k, m, n):\n",
        "\n",
        "  pop = k + m + n\n",
        "\n",
        "  return (m*n + .25*m*(m-1) + n*(n-1)) / (pop * (pop - 1))"
      ]
    },
    {
      "cell_type": "code",
      "source": [
        "def p_dominant(k, m, n):\n",
        "\n",
        "  return 1 - p_recessive(k, m, n)"
      ],
      "metadata": {
        "id": "qlaYUnkemmN9"
      },
      "execution_count": 41,
      "outputs": []
    },
    {
      "cell_type": "code",
      "source": [
        "# Sample data set\n",
        "\n",
        "k, m, n = 2., 2., 2.\n",
        "\n",
        "print('Sample:', p_dominant(k, m, n))\n",
        "\n",
        "# Problem data set:\n",
        "\n",
        "k, m, n = 18, 22, 18\n",
        "\n",
        "print('Problem:', p_dominant(k, m, n))"
      ],
      "metadata": {
        "id": "IsG4usWJkJkg",
        "outputId": "b1fd07e4-ef3a-45cc-c500-477e5a7b267b",
        "colab": {
          "base_uri": "https://localhost:8080/"
        }
      },
      "execution_count": 42,
      "outputs": [
        {
          "output_type": "stream",
          "name": "stdout",
          "text": [
            "Sample: 0.7833333333333333\n",
            "Problem: 0.7527223230490018\n"
          ]
        }
      ]
    }
  ]
}