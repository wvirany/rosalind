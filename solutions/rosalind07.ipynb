{
  "nbformat": 4,
  "nbformat_minor": 0,
  "metadata": {
    "colab": {
      "provenance": [],
      "authorship_tag": "ABX9TyNlhWfVUmnD2eYqviI/JBTy",
      "include_colab_link": true
    },
    "kernelspec": {
      "name": "python3",
      "display_name": "Python 3"
    },
    "language_info": {
      "name": "python"
    }
  },
  "cells": [
    {
      "cell_type": "markdown",
      "metadata": {
        "id": "view-in-github",
        "colab_type": "text"
      },
      "source": [
        "<a href=\"https://colab.research.google.com/github/wvirany/rosalind/blob/main/solutions/rosalind07.ipynb\" target=\"_parent\"><img src=\"https://colab.research.google.com/assets/colab-badge.svg\" alt=\"Open In Colab\"/></a>"
      ]
    },
    {
      "cell_type": "markdown",
      "source": [
        "# Mendel's First Law\n",
        "\n",
        "\n",
        "---\n",
        "\n",
        "\n",
        "### New terms:\n",
        "* blending inheritance - the faulty hereditary theory that stated an individual would exhibit a blend of its parents' traits\n",
        "* factors - the Mendelian unit of heredity"
      ],
      "metadata": {
        "id": "523GqMF-M3Zg"
      }
    },
    {
      "cell_type": "code",
      "execution_count": null,
      "metadata": {
        "id": "o9yirfsSMtsZ"
      },
      "outputs": [],
      "source": []
    }
  ]
}