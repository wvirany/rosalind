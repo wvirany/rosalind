{
  "nbformat": 4,
  "nbformat_minor": 0,
  "metadata": {
    "colab": {
      "provenance": [],
      "include_colab_link": true
    },
    "kernelspec": {
      "name": "python3",
      "display_name": "Python 3"
    },
    "language_info": {
      "name": "python"
    }
  },
  "cells": [
    {
      "cell_type": "markdown",
      "metadata": {
        "id": "view-in-github",
        "colab_type": "text"
      },
      "source": [
        "<a href=\"https://colab.research.google.com/github/wvirany/rosalind/blob/main/solutions/rosalind05/rosalind05.ipynb\" target=\"_parent\"><img src=\"https://colab.research.google.com/assets/colab-badge.svg\" alt=\"Open In Colab\"/></a>"
      ]
    },
    {
      "cell_type": "markdown",
      "source": [
        "# Computing GC Content\n",
        "\n",
        "\n",
        "---\n",
        "\n",
        "\n",
        "### New Terms:\n",
        "* GC-content - the percentage of cytasine and guanine bases in a strand of nucleic acid\n",
        "* FASTA format - a text format used for naming genetic strings in databases"
      ],
      "metadata": {
        "id": "r4XyQemn0vbR"
      }
    },
    {
      "cell_type": "markdown",
      "source": [
        "### Problem:\n",
        "\n",
        "`Given`: At most 10 DNA strings in FASTA format (of length at most 1 kbp each)\n",
        "\n",
        "`Return`: The ID of the string with the highest GC-content, followed by the GC-content of that string"
      ],
      "metadata": {
        "id": "eZA5-ara1SVy"
      }
    },
    {
      "cell_type": "code",
      "source": [
        "import numpy as np\n",
        "import pandas as pd"
      ],
      "metadata": {
        "id": "MZ-oL1MJqO7u"
      },
      "execution_count": 3,
      "outputs": []
    },
    {
      "cell_type": "code",
      "source": [
        "# Parsing data file line by line:\n",
        "\n",
        "data = open('rosalind_gc.txt', 'r')\n",
        "\n",
        "lines = data.read()\n",
        "\n",
        "lines = lines.split('>')\n",
        "\n",
        "del(lines[0])\n",
        "\n",
        "maxGC, id = 0, ''\n",
        "\n",
        "for i, l in enumerate(lines):\n",
        "\n",
        "  id_, seq = l.split('\\n', 1)\n",
        "\n",
        "  seq = seq.replace('\\n', \"\")\n",
        "\n",
        "  gc = float((seq.count('C') + seq.count('G')) / len(seq)) * 100\n",
        "\n",
        "  if gc > maxGC:\n",
        "    maxGC = gc\n",
        "    id = id_\n",
        "\n",
        "\n",
        "print(id)\n",
        "print(maxGC)\n",
        "\n",
        "data.close()\n"
      ],
      "metadata": {
        "colab": {
          "base_uri": "https://localhost:8080/"
        },
        "id": "fTPclrSwqQH3",
        "outputId": "c8be03cc-07f2-4dc5-f5fc-44e1f8bfcb26"
      },
      "execution_count": 5,
      "outputs": [
        {
          "output_type": "stream",
          "name": "stdout",
          "text": [
            "Rosalind_3703\n",
            "50.933609958506224\n"
          ]
        }
      ]
    },
    {
      "cell_type": "code",
      "source": [],
      "metadata": {
        "id": "o8AuysRGY7VO"
      },
      "execution_count": null,
      "outputs": []
    }
  ]
}