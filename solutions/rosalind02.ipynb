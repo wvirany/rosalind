{
  "nbformat": 4,
  "nbformat_minor": 0,
  "metadata": {
    "colab": {
      "provenance": [],
      "authorship_tag": "ABX9TyNiB7I/Qgl8BkK5JMYm4jCQ",
      "include_colab_link": true
    },
    "kernelspec": {
      "name": "python3",
      "display_name": "Python 3"
    },
    "language_info": {
      "name": "python"
    }
  },
  "cells": [
    {
      "cell_type": "markdown",
      "metadata": {
        "id": "view-in-github",
        "colab_type": "text"
      },
      "source": [
        "<a href=\"https://colab.research.google.com/github/wvirany/rosalind/blob/main/rosalind02.ipynb\" target=\"_parent\"><img src=\"https://colab.research.google.com/assets/colab-badge.svg\" alt=\"Open In Colab\"/></a>"
      ]
    },
    {
      "cell_type": "markdown",
      "source": [
        "# Transcribing DNA into RNA\n",
        "\n",
        "\n",
        "---\n",
        "\n",
        "### The Second Nucleic Acid\n",
        "\n",
        "#### New Terms:\n",
        "\n",
        "*   ribose - the sugar component of RNA\n",
        "*   ribose nucleic acid - a nucleic acid transcribed from DNA that serves as the template for protein creation\n",
        "*   uracil - one of the four bases of RNA\n",
        "*   messenger RNA - an RNA molecule that serves as the blueprint for translation into protein\n",
        "*   RNA transcription - the process by which DNA is converted into RNA"
      ],
      "metadata": {
        "id": "5VqILrQpd6kL"
      }
    },
    {
      "cell_type": "code",
      "execution_count": null,
      "metadata": {
        "id": "6jPcwsgSY7pj"
      },
      "outputs": [],
      "source": []
    }
  ]
}
