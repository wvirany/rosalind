{
  "nbformat": 4,
  "nbformat_minor": 0,
  "metadata": {
    "colab": {
      "provenance": [],
      "authorship_tag": "ABX9TyNSNrWDynP5lhmr8qBEv3oj",
      "include_colab_link": true
    },
    "kernelspec": {
      "name": "python3",
      "display_name": "Python 3"
    },
    "language_info": {
      "name": "python"
    }
  },
  "cells": [
    {
      "cell_type": "markdown",
      "metadata": {
        "id": "view-in-github",
        "colab_type": "text"
      },
      "source": [
        "<a href=\"https://colab.research.google.com/github/wvirany/rosalind/blob/main/solutions/rosalind02.ipynb\" target=\"_parent\"><img src=\"https://colab.research.google.com/assets/colab-badge.svg\" alt=\"Open In Colab\"/></a>"
      ]
    },
    {
      "cell_type": "markdown",
      "source": [
        "# Transcribing DNA into RNA\n",
        "\n",
        "\n",
        "---\n",
        "\n",
        "### The Second Nucleic Acid\n",
        "\n",
        "#### New Terms:\n",
        "\n",
        "*   ribose - the sugar component of RNA\n",
        "*   ribose nucleic acid - a nucleic acid transcribed from DNA that serves as the template for protein creation\n",
        "*   uracil - one of the four bases of RNA\n",
        "*   messenger RNA - an RNA molecule that serves as the blueprint for translation into protein\n",
        "*   RNA transcription - the process by which DNA is converted into RNA"
      ],
      "metadata": {
        "id": "5VqILrQpd6kL"
      }
    },
    {
      "cell_type": "markdown",
      "source": [
        "### Problem:\n",
        "\n",
        "`Given:` A DNA string $t$ having length at most 1000 $nt$\n",
        "\n",
        "`Return:` The transcribed RNA string of $t$"
      ],
      "metadata": {
        "id": "088WEvikOkr9"
      }
    },
    {
      "cell_type": "code",
      "execution_count": 14,
      "metadata": {
        "id": "6jPcwsgSY7pj"
      },
      "outputs": [],
      "source": [
        "def transcribe_RNA(t):\n",
        "  t = t.replace('T', 'U')\n",
        "\n",
        "  return t"
      ]
    },
    {
      "cell_type": "code",
      "source": [
        "t = \"TCAGGGGGAAATGGCAGCCATCTTTTCTAGGCCAACTCAGCTCCGATGGCCAACTCTGTCCCGGTATATGCTGTGGTGATGGCAGCAGCGTAAGCTCTTTGCTAAGGCCAGTAGGGCGAGGAGATTTGTTTAGTGTCTACGTTACATTGGATAAAAGTGATCGGTTAGAATGGTGAGTGTACGTCAAACGGCGCAGAATGACGCTGATGTTTCGTGAACTGCTTGAAAATAATAATATACTTTAGGGTCTTGATACATAAAAGTCTTTGATCGTCAGCCTGGACTAAGACATGTGGCCTTTGACCGCTTTTTCCCTTATCGTATCGAAGTGCAAGCGACTCGAGGGGACGATCCCGTCCACCAAGACCGCCTGGTAACGCTACGCGCCTGGTAATTAGGTGTGTAGGGTCACTAGAAGTCTAAGACGCGGTTGGGTTGCTATTTCTTCCAATCGACCGGGCTGCATGTCATCAGTGATAACATATCCTTTGGGACAAGCTTATCTCTCAGTTACGACTTATTGCACCCCAACCTTGAAGGGGCTAGGGGACGTTGCATAGCATAAAATTGCTGCCATAATTCGCACGGAGCCTCTATGGCGCCGCCTCAGTGATGTTTAGGTTTCAGCTATTCGGCGCGCCGTAGGTGACAGACTATGCATCAACTTTCGTCGGTACGACGTAGTTAACGCGATGTGTCACAGGGTGATGGCCTGTCTGTCAATAGAGCAAAGTTTTCTATGGGCGCTGACAGTGGAGACCAATGTAATTTCCAATGTGTATTCACCCGTAGCGATTTCCGGAATCAGCAGGACGTCTCCAGAGTGGTATGTACGTTCTGAGAGTCTTAAAGGGACCGCGAAACCATAAAACATCAACCAACTCTAATTTAGTGGGTAACATGCAGGACCGCAACCAATCGTTCAAATTGAAGCCTTTTGCT\"\n",
        "\n",
        "transcribe_RNA(t)"
      ],
      "metadata": {
        "id": "50fgaZqFPE_9",
        "outputId": "68f9f4f2-b99f-4ec6-a4ad-05c494e6725b",
        "colab": {
          "base_uri": "https://localhost:8080/",
          "height": 105
        }
      },
      "execution_count": 16,
      "outputs": [
        {
          "output_type": "execute_result",
          "data": {
            "text/plain": [
              "'UCAGGGGGAAAUGGCAGCCAUCUUUUCUAGGCCAACUCAGCUCCGAUGGCCAACUCUGUCCCGGUAUAUGCUGUGGUGAUGGCAGCAGCGUAAGCUCUUUGCUAAGGCCAGUAGGGCGAGGAGAUUUGUUUAGUGUCUACGUUACAUUGGAUAAAAGUGAUCGGUUAGAAUGGUGAGUGUACGUCAAACGGCGCAGAAUGACGCUGAUGUUUCGUGAACUGCUUGAAAAUAAUAAUAUACUUUAGGGUCUUGAUACAUAAAAGUCUUUGAUCGUCAGCCUGGACUAAGACAUGUGGCCUUUGACCGCUUUUUCCCUUAUCGUAUCGAAGUGCAAGCGACUCGAGGGGACGAUCCCGUCCACCAAGACCGCCUGGUAACGCUACGCGCCUGGUAAUUAGGUGUGUAGGGUCACUAGAAGUCUAAGACGCGGUUGGGUUGCUAUUUCUUCCAAUCGACCGGGCUGCAUGUCAUCAGUGAUAACAUAUCCUUUGGGACAAGCUUAUCUCUCAGUUACGACUUAUUGCACCCCAACCUUGAAGGGGCUAGGGGACGUUGCAUAGCAUAAAAUUGCUGCCAUAAUUCGCACGGAGCCUCUAUGGCGCCGCCUCAGUGAUGUUUAGGUUUCAGCUAUUCGGCGCGCCGUAGGUGACAGACUAUGCAUCAACUUUCGUCGGUACGACGUAGUUAACGCGAUGUGUCACAGGGUGAUGGCCUGUCUGUCAAUAGAGCAAAGUUUUCUAUGGGCGCUGACAGUGGAGACCAAUGUAAUUUCCAAUGUGUAUUCACCCGUAGCGAUUUCCGGAAUCAGCAGGACGUCUCCAGAGUGGUAUGUACGUUCUGAGAGUCUUAAAGGGACCGCGAAACCAUAAAACAUCAACCAACUCUAAUUUAGUGGGUAACAUGCAGGACCGCAACCAAUCGUUCAAAUUGAAGCCUUUUGCU'"
            ],
            "application/vnd.google.colaboratory.intrinsic+json": {
              "type": "string"
            }
          },
          "metadata": {},
          "execution_count": 16
        }
      ]
    },
    {
      "cell_type": "code",
      "source": [],
      "metadata": {
        "id": "F0adsjzUPM2V"
      },
      "execution_count": null,
      "outputs": []
    }
  ]
}