{
  "nbformat": 4,
  "nbformat_minor": 0,
  "metadata": {
    "colab": {
      "provenance": [],
      "authorship_tag": "ABX9TyM5FzzRor8GtBTB7GPnq8aA",
      "include_colab_link": true
    },
    "kernelspec": {
      "name": "python3",
      "display_name": "Python 3"
    },
    "language_info": {
      "name": "python"
    }
  },
  "cells": [
    {
      "cell_type": "markdown",
      "metadata": {
        "id": "view-in-github",
        "colab_type": "text"
      },
      "source": [
        "<a href=\"https://colab.research.google.com/github/wvirany/rosalind/blob/main/solutions/rosalind08.ipynb\" target=\"_parent\"><img src=\"https://colab.research.google.com/assets/colab-badge.svg\" alt=\"Open In Colab\"/></a>"
      ]
    },
    {
      "cell_type": "markdown",
      "source": [
        "# Translating RNA into Protein\n",
        "\n",
        "\n",
        "---\n",
        "\n",
        "\n",
        "### New Terms:\n",
        "* proteins - the functional unit of the cell\n",
        "* amino acids - the monomer unit for proteins; the same 20 amino acids commonly occur in most species\n",
        "* primary structure - the order of amino acids on a protein\n",
        "* polypeptides - a long chain of amino acids\n",
        "* proteomics - the study of proteins and their properties\n",
        "* genetic code - the exact specifications for translating nucleic acid codons into amino acids\n",
        "* translation - the proces by which mRNA is converted into a peptide chain for the creation of a protein\n",
        "* messenger RNA (mRNA) - an RNA molecule that serves as the blueprint for translation into protein\n",
        "* codons - a triplet of contiguous nucleotides\n",
        "* start codon (AUG) - the RNA codon AUG, which codes for the amino acid methionine and indicates the beginning of translation into protein\n",
        "* stop codons (UAA, UAG, UGA) - one of three possible RNA codons that indicate the termination of protein translation\n",
        "* central dogma of molecular biology - a postulate dictating that protein is always translated from RNA, which in turn is always transcribed from DNA\n",
        "* organelle - a structure in the cell that serves as a central hub for some particular group of cellular functions\n",
        "* ribosome - an organelle that carries out the assembly of peptides from mRNA during translation\n",
        "* transfer RNA (tRNA) - the helper molecule used by ribosomes for physically translating codons into amino acids\n",
        "* gene - an interval of DNA whose nucleotides are translated into a polypeptide for protein creation\n",
        "* heredity - the scientific study of the inheritance of traits\n",
        "* protein strings - a string composed of symbols from the English alphabet sans B, J, O, U, X, and Z; representing a peptide chain formed from amino acids\n",
        "* genetic string - a DNA, RNA, or amino acid string\n",
        "* the RNA codon table - a table indicating the translation of individual RNA codons into amino acids for the purpose of protein creation"
      ],
      "metadata": {
        "id": "YtB-QQ0Pqk5a"
      }
    },
    {
      "cell_type": "code",
      "execution_count": null,
      "metadata": {
        "id": "CIWxrcUyqipg"
      },
      "outputs": [],
      "source": []
    }
  ]
}