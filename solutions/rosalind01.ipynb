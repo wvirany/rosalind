{
  "nbformat": 4,
  "nbformat_minor": 0,
  "metadata": {
    "colab": {
      "provenance": [],
      "authorship_tag": "ABX9TyM1TDgW5uqHU7lrSBHCA45d",
      "include_colab_link": true
    },
    "kernelspec": {
      "name": "python3",
      "display_name": "Python 3"
    },
    "language_info": {
      "name": "python"
    }
  },
  "cells": [
    {
      "cell_type": "markdown",
      "metadata": {
        "id": "view-in-github",
        "colab_type": "text"
      },
      "source": [
        "<a href=\"https://colab.research.google.com/github/wvirany/rosalind/blob/main/rosalind01.ipynb\" target=\"_parent\"><img src=\"https://colab.research.google.com/assets/colab-badge.svg\" alt=\"Open In Colab\"/></a>"
      ]
    },
    {
      "cell_type": "markdown",
      "source": [
        "# A Rapid Introduction to Molecular Biology\n",
        "\n",
        "---\n",
        "\n",
        "\n",
        "\n",
        "### New Terms:\n",
        "\n",
        "\n",
        "*   cell - the \"building block of life\" making up all living things on earth\n",
        "*   nucleus - the central \"brain\" of a eukaryotic cell, which contains the cell's DNA\n",
        "*   eukaryote - forms the most complex domain of life, which includes all multicellular organisms\n",
        "*   chromatin - the dense collection of nucleic acids and proteins found in the nucleus\n",
        "*   mitosis - the process of eukaryotic cell division\n",
        "*   chromosome - a tightly coiled structure of DNA formed in advance of mitosis to facilitate duplication of DNA\n",
        "*   monomer - the structural unit making up a macromolecule\n",
        "*   polymer - a molecule formed by a repeating chain of subunits\n",
        "*   nucleotide - the monomer making up a nucleic acid\n",
        "*   nucleic acids - a polymer of nucleotides, constituting either RNA or DNA\n",
        "*   strands - a nucleic acid polymer\n",
        "*   sugar - one of three components of a nucleotide\n",
        "*   ion - an electrically charged atom or molecule\n",
        "*   phosphate - an ion that forms one of the three components of a nucleotide\n",
        "*   nucleobase - the differentiating component of a nucleotide\n",
        "*   sugar-phosphate backbone - the alternating chain of sugar and phosphate molecules in a nucleic acid\n",
        "*   primary structure - the order of bases on a strand of nucleic acid\n",
        "*   deoxyribose nucleic acid (DNA) - the molecule encoding heredity and underlying the cellular processes of all life forms\n",
        "*   deoxyribose - the monosaccharide appearing in each nucleotide of DNA\n",
        "*   adenine (A) &harr; thymine (T)\n",
        "*   cytosine (C) &harr; guanine (G)\n",
        "*   genome - the collection of all of an organism's DNA taken from all of its chromosomes"
      ],
      "metadata": {
        "id": "Di2li4Nngj3T"
      }
    },
    {
      "cell_type": "markdown",
      "source": [
        "### Problem:\n",
        "`Given:` A DNA of string $s$ of length at most 1000 nt\n",
        "\n",
        "`Return:` Four integers counting the number of times 'A', 'C', 'G', and 'T' occur in $s$, respectively"
      ],
      "metadata": {
        "id": "lE0_MUHhXCdV"
      }
    },
    {
      "cell_type": "code",
      "source": [
        "import numpy as np"
      ],
      "metadata": {
        "id": "_HbcUNIoYMbL"
      },
      "execution_count": null,
      "outputs": []
    },
    {
      "cell_type": "code",
      "source": [
        "def count_nucleobase(s):\n",
        "  x = [0, 0, 0, 0]\n",
        "  for i in s:\n",
        "    if i == 'A':\n",
        "      x[0] += 1\n",
        "    elif i == 'C':\n",
        "      x[1] += 1\n",
        "    elif i == 'G':\n",
        "      x[2] += 1\n",
        "    elif i == 'T':\n",
        "      x[3] += 1\n",
        "\n",
        "  return x"
      ],
      "metadata": {
        "id": "DFWnRaNVXfaj"
      },
      "execution_count": null,
      "outputs": []
    },
    {
      "cell_type": "code",
      "source": [
        "s = 'AACACAGGGCAACTTCTCGCGACACTCGTCTTCACTGTACTGGCAGCTTAGGGAGAACGGACGATAAGGACGCCGATCCATAGAAATGATCGATTCCTTTGGGGAGCCCGGTAATATTCTCGCACCTTAGGGCGCGCAAACAAGTAACACTGCAGCAATTCGGTTTGAACCCCAAAATTTAGTCAGTTCTAGTTAGGGGCCCGGTCAGAGCCGGGATGAAAATTTGAAATTTTCCGCGCATCCCCACATCGGGGATATGTGCTGTCAACGGGCACTTTTCACGCGTGGCCGGGTCGTCCAGTGCCTACGTAGTCGCGGTCCTCGTGCACGGTATCATACTCACCTTCAGGCGTTTCAGAGCCAGATGTATGCGAACTCGGTTGCGCTGGTTGTTGTCGGATCTATAGGGATTGCCTCTAACACCCCGTGGCTCCATTGTGTGCGCGTAAAACGGAGCTTATAGTCGGGGACACATTCCTAAGGTCCAGGACTGATGACTTCCTATGCCTATACGGTGAGCAAACAAGACCGTATCACTTATGTCTTCATGGCAAAACAGTACGTGGTATACCGCTCATTGCGGGAATGTCCCCGCAAGTAAGGGACAGATGGGCTTCATATGGCACAGGGACCGCGCTATCTAAAGACGTCACGGTACACCTTTATAAATTCGCATCCAATGTGTCTAAGCACATGCAATAAGGCGGACGCAACGCGTGATTGATAAACTTTGGTACCGGACACTCGCGATCTTAGCCGCACCACCTTACCGTCCCTTAGCCCGTGACGCGGGGATCTCATCGCTCGTGCCCAGACTTTCGTCGCTCAATGTACGCACTTTCAACGGGGATTGAGCCCTGGGGAT'\n",
        "\n",
        "x = count_nucleobase(s)\n",
        "\n",
        "x"
      ],
      "metadata": {
        "colab": {
          "base_uri": "https://localhost:8080/"
        },
        "id": "HzYWHTuBYDuK",
        "outputId": "cdb25cb3-a32b-42cc-e68c-e067d46e289e"
      },
      "execution_count": null,
      "outputs": [
        {
          "output_type": "execute_result",
          "data": {
            "text/plain": [
              "(205, 230, 224, 206)"
            ]
          },
          "metadata": {},
          "execution_count": 5
        }
      ]
    }
  ]
}
