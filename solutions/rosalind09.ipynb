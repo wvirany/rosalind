{
  "nbformat": 4,
  "nbformat_minor": 0,
  "metadata": {
    "colab": {
      "provenance": [],
      "authorship_tag": "ABX9TyN39cvzwr8lql2hvRSphV7H",
      "include_colab_link": true
    },
    "kernelspec": {
      "name": "python3",
      "display_name": "Python 3"
    },
    "language_info": {
      "name": "python"
    }
  },
  "cells": [
    {
      "cell_type": "markdown",
      "metadata": {
        "id": "view-in-github",
        "colab_type": "text"
      },
      "source": [
        "<a href=\"https://colab.research.google.com/github/wvirany/rosalind/blob/main/solutions/rosalind09.ipynb\" target=\"_parent\"><img src=\"https://colab.research.google.com/assets/colab-badge.svg\" alt=\"Open In Colab\"/></a>"
      ]
    },
    {
      "cell_type": "markdown",
      "source": [
        "# Finding a Motif in DNA\n",
        "\n",
        "\n",
        "\n",
        "---\n",
        "\n",
        "\n",
        "### New Terms:\n",
        "* motif - a nucleotide or amino acid pattern of biological significance\n",
        "* repeats - an interval of DNA in the genome that occurs often, possibly with minor changes\n",
        "* Alu repeat - a repeat of about 300 base pairs that occurs a million times on the human genome"
      ],
      "metadata": {
        "id": "egIIlcye2xXg"
      }
    },
    {
      "cell_type": "markdown",
      "source": [
        "### Problem:\n",
        "\n",
        "`Given`: Two DNA strings $s$ and $t$ (each of length at most 1 kbp)\n",
        "\n",
        "`Returns`: All locations of $t$ as a substring of $s$"
      ],
      "metadata": {
        "id": "z5SyhUpd4OAk"
      }
    },
    {
      "cell_type": "code",
      "source": [
        "def find_motif(s, t):\n",
        "\n",
        "  l = len(t)\n",
        "\n",
        "\n",
        "  idx = []\n",
        "\n",
        "  for i,j in enumerate(s):\n",
        "\n",
        "    if t == s[i:i+l]:\n",
        "      idx.append(i+1)\n",
        "\n",
        "  return idx"
      ],
      "metadata": {
        "id": "d1Jucyo74nn5"
      },
      "execution_count": 51,
      "outputs": []
    },
    {
      "cell_type": "code",
      "execution_count": 52,
      "metadata": {
        "id": "SeVXes_12pZl",
        "outputId": "80b44358-851a-44e3-c16c-e1f8bd1895ef",
        "colab": {
          "base_uri": "https://localhost:8080/"
        }
      },
      "outputs": [
        {
          "output_type": "execute_result",
          "data": {
            "text/plain": [
              "[2, 4, 10]"
            ]
          },
          "metadata": {},
          "execution_count": 52
        }
      ],
      "source": [
        "# Sample data\n",
        "\n",
        "s = 'GATATATGCATATACTT'\n",
        "t = 'ATAT'\n",
        "\n",
        "find_motif(s,t)"
      ]
    },
    {
      "cell_type": "code",
      "source": [
        "# Problem data\n",
        "\n",
        "s = 'GGCTCATAGGCTCATAGGCTCATGGCTCATGGCTCATGGCTCATTATGCCGGCTCATCTGGCTCATGGGCTCATGAAATTGTCGGCTCATACCTACTCGGCTCATGGCTCATAATGGCTCATGGGTGGTGGCTCATTCGGCTCATGGCTCATGTAGAGGGGCTCATAGTGGGGCTCATGGGCTCATCGAGGCTCATATAGGCTCATGTGCGGCTCATTTTGGCTCATCCGCGGCTCATTGGCTCATGGCTCATACTCCTGTATGGCTCATATCGGCTCATTGGCTCATAAGGCTCATGGGGGCTCATGTAGTTAGGGCTCATGGCTCATGTGGGCTCATTTTACCTTAAGGCTCATCGGCTCATACGCGGCTCATCAGGCTCATCTGGGCTCATGGCTCATTCACACGCGGCTCATGGCTCATTGTTAGGCTCATAGGCTCATCGGGGCTCATAGGCTCATGGCTCATGGCTCATTATCGGCTCATGGCTCATGGCTCATTAGGCTCATTCGGGATGGGCTCATAGGCTCATGAGTAGGCTCATTGGCTCATCTGGCTCATGGCTCATCGGCTCATAATGGCTCATGGCTCATGGCTCATTAGGGCTCATGCGGCTCATTTGTGGCTCATTTATGGCTCATGGCTCATGTAATGGCTCATTGGCTCATGGCTCATAGGCTCATTAACAACGAATACGGTGGCTCATGTGGCGGCTCATAGGCTCATAGGCTCATACGGCTCATCGGCTCATCATAGGCTCATGGCTCATGCTGTTGCGGCTCATGGCTCATCTGCGGCTCATGGCTCATGGCTCATAGGCTCATACAGTAGTGACCGGGCTCATTGGCTCATGATGGCTCATGGCTCAT'\n",
        "t = 'GGCTCATGG'\n",
        "\n",
        "positions = find_motif(s, t)\n",
        "\n",
        "print(positions)"
      ],
      "metadata": {
        "id": "YxIlWRqN4yF9",
        "outputId": "2958b692-c5f1-484f-b533-359a06d758e3",
        "colab": {
          "base_uri": "https://localhost:8080/"
        }
      },
      "execution_count": 56,
      "outputs": [
        {
          "output_type": "stream",
          "name": "stdout",
          "text": [
            "[17, 24, 31, 60, 99, 116, 139, 172, 240, 291, 316, 388, 410, 455, 462, 480, 487, 555, 580, 587, 635, 662, 756, 778, 796, 803, 856]\n"
          ]
        }
      ]
    }
  ]
}