{
  "nbformat": 4,
  "nbformat_minor": 0,
  "metadata": {
    "colab": {
      "provenance": [],
      "authorship_tag": "ABX9TyMrm/OfeWpa72Qm6YOJ0Yhr",
      "include_colab_link": true
    },
    "kernelspec": {
      "name": "python3",
      "display_name": "Python 3"
    },
    "language_info": {
      "name": "python"
    }
  },
  "cells": [
    {
      "cell_type": "markdown",
      "metadata": {
        "id": "view-in-github",
        "colab_type": "text"
      },
      "source": [
        "<a href=\"https://colab.research.google.com/github/wvirany/rosalind/blob/main/solutions/rosalind03.ipynb\" target=\"_parent\"><img src=\"https://colab.research.google.com/assets/colab-badge.svg\" alt=\"Open In Colab\"/></a>"
      ]
    },
    {
      "cell_type": "markdown",
      "source": [
        "# Complementing a Strand of DNA\n",
        "\n",
        "\n",
        "\n",
        "---\n",
        "\n",
        "\n",
        "### New Terms:\n",
        "* double helix - a shape composed of two twisted chains, which serves as a model for the structure of DNA\n",
        "* complement - the base to which another given base bonds in DNA\n",
        "* secondary structure - the base pairing interactions of nucleic acid bases\n",
        "* tertiary structure - The 3-dimensional shape of a nucleic acid, which in the case of DNA is the double helix\n",
        "* base pair (bp) - the combination of two bonded complementary bases\n",
        "* reverse complement - the DNA string formed by reversing and complementing each symbol"
      ],
      "metadata": {
        "id": "3IoQ7tSZRehv"
      }
    },
    {
      "cell_type": "code",
      "execution_count": null,
      "metadata": {
        "id": "i4U4c6PGQjMD"
      },
      "outputs": [],
      "source": []
    }
  ]
}