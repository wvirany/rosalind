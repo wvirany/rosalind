{
  "nbformat": 4,
  "nbformat_minor": 0,
  "metadata": {
    "colab": {
      "provenance": [],
      "authorship_tag": "ABX9TyNsKIxBKXbrhrJ1R01YShof",
      "include_colab_link": true
    },
    "kernelspec": {
      "name": "python3",
      "display_name": "Python 3"
    },
    "language_info": {
      "name": "python"
    }
  },
  "cells": [
    {
      "cell_type": "markdown",
      "metadata": {
        "id": "view-in-github",
        "colab_type": "text"
      },
      "source": [
        "<a href=\"https://colab.research.google.com/github/wvirany/rosalind/blob/main/solutions/rosalind03.ipynb\" target=\"_parent\"><img src=\"https://colab.research.google.com/assets/colab-badge.svg\" alt=\"Open In Colab\"/></a>"
      ]
    },
    {
      "cell_type": "markdown",
      "source": [
        "# Complementing a Strand of DNA\n",
        "\n",
        "\n",
        "\n",
        "---\n",
        "\n",
        "\n",
        "### New Terms:\n",
        "* double helix - a shape composed of two twisted chains, which serves as a model for the structure of DNA\n",
        "* complement - the base to which another given base bonds in DNA\n",
        "* secondary structure - the base pairing interactions of nucleic acid bases\n",
        "* tertiary structure - The 3-dimensional shape of a nucleic acid, which in the case of DNA is the double helix\n",
        "* base pair (bp) - the combination of two bonded complementary bases\n",
        "* reverse complement - the DNA string formed by reversing and complementing each symbol"
      ],
      "metadata": {
        "id": "3IoQ7tSZRehv"
      }
    },
    {
      "cell_type": "markdown",
      "source": [
        "### Problem:\n",
        "\n",
        "`Given:` A DNA string $s$ of length at most 1000 bp.\n",
        "\n",
        "`Return:` The reverse complement $s^c$ of $s$."
      ],
      "metadata": {
        "id": "aNQWyAPHTm4X"
      }
    },
    {
      "cell_type": "code",
      "execution_count": 11,
      "metadata": {
        "id": "i4U4c6PGQjMD"
      },
      "outputs": [],
      "source": [
        "def reverse_complement(s):\n",
        "  s = s[::-1]\n",
        "\n",
        "  s = s.replace('G','B')\n",
        "  s = s.replace('C','G')\n",
        "  s = s.replace('B', 'C')\n",
        "\n",
        "  s = s.replace('A','B')\n",
        "  s = s.replace('T','A')\n",
        "  s = s.replace('B', 'T')\n",
        "\n",
        "  return s"
      ]
    },
    {
      "cell_type": "code",
      "source": [
        "s = 'CCAGCGCTAAAACGTGTGGTTGGGTACGAAACGGACTCAACTGATACGGATGCTAGTGAGGGGCTGATTGGATCTGCTGGACACCATCTAATTTCACGAGGTATCCTTATCGACAACGCGATGTCGGAGTCGATTGTAGCTCGTGAGAATTCTCAAGGTGTGGATCGACATTGGACCGCACCGTCCCCGGGTGGAATTGATGGAAGGGACATGGCGTTCTGTGTAAGGTGTTCCTTGCTCTGATTCGCTCGTAGCACCCGTGTAGGTAGATAAACCATCGCTTTTTGCTTCAAATGGCGGCATGATTGCTATCGGTTCCGCTCTCGTCCAGCGTACGCCGAGGAGTACCCACCTAAGGTCGGACATGGACAACACTTGCCTAGCTTAGCCATGCACGGTTAACAATTCCTCTTTGTAACATCGGTCCCGCGTGACCAGTCTTTCGGATATGTGGGGAAACGCTTTTCAGTATTTTTACATTTACCTCCCGGGTACTCGCTATAAATAAAATAGTAGACCTTTGCGAAGGACGAGTGACGGGTTGAACGCATGCCGGAGCAGGGCCATCGCCAACGGAGTCGCTACTGGAATCTTTAATTCCCGAGCTAAATATCCACCAAGCATTCGACGGGTTATACATTCGATGCGAGGCATAACTTTAGTGGGGACTAGAACACGTCCTACACGAGGCAAACGTGCGAGACTGGTCGATAAAAATCCGGGAACACAATAAACTCCCGGGATCACTTTACGTCAGTTCATACATGTTAGCTAAGCGAGCGCGAGGTGATGAAAATCGACCCGTCACTGGTACGGCCGCCTTAAGAACTGCCTGTCCCTCTAC'\n",
        "\n",
        "reverse_complement(s)"
      ],
      "metadata": {
        "id": "4WpXUdGRUFCf",
        "outputId": "999048df-2923-413c-dad4-9defa86908cc",
        "colab": {
          "base_uri": "https://localhost:8080/",
          "height": 87
        }
      },
      "execution_count": 12,
      "outputs": [
        {
          "output_type": "execute_result",
          "data": {
            "text/plain": [
              "'GTAGAGGGACAGGCAGTTCTTAAGGCGGCCGTACCAGTGACGGGTCGATTTTCATCACCTCGCGCTCGCTTAGCTAACATGTATGAACTGACGTAAAGTGATCCCGGGAGTTTATTGTGTTCCCGGATTTTTATCGACCAGTCTCGCACGTTTGCCTCGTGTAGGACGTGTTCTAGTCCCCACTAAAGTTATGCCTCGCATCGAATGTATAACCCGTCGAATGCTTGGTGGATATTTAGCTCGGGAATTAAAGATTCCAGTAGCGACTCCGTTGGCGATGGCCCTGCTCCGGCATGCGTTCAACCCGTCACTCGTCCTTCGCAAAGGTCTACTATTTTATTTATAGCGAGTACCCGGGAGGTAAATGTAAAAATACTGAAAAGCGTTTCCCCACATATCCGAAAGACTGGTCACGCGGGACCGATGTTACAAAGAGGAATTGTTAACCGTGCATGGCTAAGCTAGGCAAGTGTTGTCCATGTCCGACCTTAGGTGGGTACTCCTCGGCGTACGCTGGACGAGAGCGGAACCGATAGCAATCATGCCGCCATTTGAAGCAAAAAGCGATGGTTTATCTACCTACACGGGTGCTACGAGCGAATCAGAGCAAGGAACACCTTACACAGAACGCCATGTCCCTTCCATCAATTCCACCCGGGGACGGTGCGGTCCAATGTCGATCCACACCTTGAGAATTCTCACGAGCTACAATCGACTCCGACATCGCGTTGTCGATAAGGATACCTCGTGAAATTAGATGGTGTCCAGCAGATCCAATCAGCCCCTCACTAGCATCCGTATCAGTTGAGTCCGTTTCGTACCCAACCACACGTTTTAGCGCTGG'"
            ],
            "application/vnd.google.colaboratory.intrinsic+json": {
              "type": "string"
            }
          },
          "metadata": {},
          "execution_count": 12
        }
      ]
    },
    {
      "cell_type": "code",
      "source": [],
      "metadata": {
        "id": "0HJ_dY1KV3ar"
      },
      "execution_count": null,
      "outputs": []
    }
  ]
}