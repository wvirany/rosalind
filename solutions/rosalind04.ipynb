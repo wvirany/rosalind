{
  "nbformat": 4,
  "nbformat_minor": 0,
  "metadata": {
    "colab": {
      "provenance": [],
      "authorship_tag": "ABX9TyM+4BsybbTE3PTSgtUVTBiV",
      "include_colab_link": true
    },
    "kernelspec": {
      "name": "python3",
      "display_name": "Python 3"
    },
    "language_info": {
      "name": "python"
    }
  },
  "cells": [
    {
      "cell_type": "markdown",
      "metadata": {
        "id": "view-in-github",
        "colab_type": "text"
      },
      "source": [
        "<a href=\"https://colab.research.google.com/github/wvirany/rosalind/blob/main/solutions/rosalind04.ipynb\" target=\"_parent\"><img src=\"https://colab.research.google.com/assets/colab-badge.svg\" alt=\"Open In Colab\"/></a>"
      ]
    },
    {
      "cell_type": "markdown",
      "source": [
        "# Rabbits and Recurrence Relations\n",
        "\n",
        "\n",
        "\n",
        "---\n",
        "\n",
        "\n",
        "### Problem:\n",
        "\n",
        "`Given:` Positive integers $n \\leq 40$ and $k \\leq 5$\n",
        "\n",
        "`Return:` The number of rabbit pairs that will be present after $n$ months, starting with 1 pair and in each generation, every pair of reproduction-age rabbits produces a litter of $k$ rabbit pairs"
      ],
      "metadata": {
        "id": "ZxaAxODUz_qL"
      }
    },
    {
      "cell_type": "code",
      "source": [
        "import numpy as np"
      ],
      "metadata": {
        "id": "UfYyVBq-fBZI"
      },
      "execution_count": 2,
      "outputs": []
    },
    {
      "cell_type": "code",
      "execution_count": 6,
      "metadata": {
        "id": "MdahSnZsz5hL"
      },
      "outputs": [],
      "source": [
        "def rabbit_sequence(n, k):\n",
        "\n",
        "  num_rabbits = np.ones(n, dtype=int)\n",
        "\n",
        "  for i in range(2, n):\n",
        "\n",
        "    num_rabbits[i] = num_rabbits[i-1] + k * num_rabbits[i-2]\n",
        "\n",
        "  return num_rabbits"
      ]
    },
    {
      "cell_type": "code",
      "source": [
        "seq = rabbit_sequence(28, 4)\n",
        "\n",
        "seq"
      ],
      "metadata": {
        "id": "fsnAr3TOoAcX",
        "colab": {
          "base_uri": "https://localhost:8080/"
        },
        "outputId": "dbc7aa0a-f3b8-4fd9-c2d8-b475c55f9eb2"
      },
      "execution_count": 10,
      "outputs": [
        {
          "output_type": "execute_result",
          "data": {
            "text/plain": [
              "array([          1,           1,           5,           9,          29,\n",
              "                65,         181,         441,        1165,        2929,\n",
              "              7589,       19305,       49661,      126881,      325525,\n",
              "            833049,     2135149,     5467345,    14007941,    35877321,\n",
              "          91909085,   235418369,   603054709,  1544728185,  3956947021,\n",
              "       10135859761, 25963647845, 66507086889])"
            ]
          },
          "metadata": {},
          "execution_count": 10
        }
      ]
    },
    {
      "cell_type": "markdown",
      "source": [
        "Note: You can save memory by storing only the last two numbers:"
      ],
      "metadata": {
        "id": "ci5ihChFzfZC"
      }
    },
    {
      "cell_type": "code",
      "source": [
        "def fib(n, k):\n",
        "  a, b = 1, 1\n",
        "\n",
        "  for i in range(2, n):\n",
        "    a, b = b, k*a + b\n",
        "\n",
        "  return b"
      ],
      "metadata": {
        "id": "LaszRaSwfIk_"
      },
      "execution_count": 11,
      "outputs": []
    },
    {
      "cell_type": "code",
      "source": [
        "fib(28, 4)"
      ],
      "metadata": {
        "colab": {
          "base_uri": "https://localhost:8080/"
        },
        "id": "XgXAohv7z3sJ",
        "outputId": "5a4ee1eb-ad3e-4dad-f517-7508f008dd30"
      },
      "execution_count": 12,
      "outputs": [
        {
          "output_type": "execute_result",
          "data": {
            "text/plain": [
              "66507086889"
            ]
          },
          "metadata": {},
          "execution_count": 12
        }
      ]
    }
  ]
}