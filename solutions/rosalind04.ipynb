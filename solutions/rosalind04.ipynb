{
  "nbformat": 4,
  "nbformat_minor": 0,
  "metadata": {
    "colab": {
      "provenance": [],
      "authorship_tag": "ABX9TyOt2yG1AEiTXgJjcHKoC2Pw",
      "include_colab_link": true
    },
    "kernelspec": {
      "name": "python3",
      "display_name": "Python 3"
    },
    "language_info": {
      "name": "python"
    }
  },
  "cells": [
    {
      "cell_type": "markdown",
      "metadata": {
        "id": "view-in-github",
        "colab_type": "text"
      },
      "source": [
        "<a href=\"https://colab.research.google.com/github/wvirany/rosalind/blob/main/solutions/rosalind04.ipynb\" target=\"_parent\"><img src=\"https://colab.research.google.com/assets/colab-badge.svg\" alt=\"Open In Colab\"/></a>"
      ]
    },
    {
      "cell_type": "markdown",
      "source": [
        "# Rabbits and Recurrence Relations\n",
        "\n",
        "\n",
        "\n",
        "---\n",
        "\n",
        "\n",
        "### Problem:\n",
        "\n",
        "`Given:` Positive integers $n \\leq 40$ and $k \\leq 5$\n",
        "\n",
        "`Return:` The number of rabbit pairs that will be present after $n$ months, starting with 1 pair and in each generation, every pair of reproduction-age rabbits produces a litter of $k$ rabbit pairs"
      ],
      "metadata": {
        "id": "ZxaAxODUz_qL"
      }
    },
    {
      "cell_type": "code",
      "source": [
        "import numpy as np"
      ],
      "metadata": {
        "id": "UfYyVBq-fBZI"
      },
      "execution_count": 3,
      "outputs": []
    },
    {
      "cell_type": "code",
      "execution_count": 8,
      "metadata": {
        "id": "MdahSnZsz5hL"
      },
      "outputs": [],
      "source": [
        "def rabbit_sequence(n, k):\n",
        "\n",
        "  num_rabbits = np.ones(n)\n",
        "\n",
        "  for i in range(2, n):\n",
        "\n",
        "    num_rabbits[i] = num_rabbits[i-1] + k * num_rabbits[i-2]\n",
        "\n",
        "  return num_rabbits"
      ]
    },
    {
      "cell_type": "code",
      "source": [
        "rabbit_sequence(5, 3)"
      ],
      "metadata": {
        "id": "fsnAr3TOoAcX",
        "colab": {
          "base_uri": "https://localhost:8080/"
        },
        "outputId": "5507234f-32bd-4181-8845-bc8755e481e3"
      },
      "execution_count": 9,
      "outputs": [
        {
          "output_type": "execute_result",
          "data": {
            "text/plain": [
              "array([ 1.,  1.,  4.,  7., 19.])"
            ]
          },
          "metadata": {},
          "execution_count": 9
        }
      ]
    },
    {
      "cell_type": "code",
      "source": [],
      "metadata": {
        "id": "LaszRaSwfIk_"
      },
      "execution_count": null,
      "outputs": []
    }
  ]
}