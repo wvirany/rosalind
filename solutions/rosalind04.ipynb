{
  "nbformat": 4,
  "nbformat_minor": 0,
  "metadata": {
    "colab": {
      "provenance": [],
      "authorship_tag": "ABX9TyOzNjBG//+3WpIRczfJ5uuj",
      "include_colab_link": true
    },
    "kernelspec": {
      "name": "python3",
      "display_name": "Python 3"
    },
    "language_info": {
      "name": "python"
    }
  },
  "cells": [
    {
      "cell_type": "markdown",
      "metadata": {
        "id": "view-in-github",
        "colab_type": "text"
      },
      "source": [
        "<a href=\"https://colab.research.google.com/github/wvirany/rosalind/blob/main/solutions/rosalind04.ipynb\" target=\"_parent\"><img src=\"https://colab.research.google.com/assets/colab-badge.svg\" alt=\"Open In Colab\"/></a>"
      ]
    },
    {
      "cell_type": "markdown",
      "source": [
        "# Rabbits and Recurrence Relations\n",
        "\n",
        "\n",
        "\n",
        "---\n",
        "\n",
        "\n",
        "### Problem:\n",
        "\n",
        "`Given:` Positive integers $n \\leq 40$ and $k \\leq 5$\n",
        "\n",
        "`Return:` The number of rabbit pairs that will be present after $n$ months, starting with 1 pair and in each generation, every pair of reproduction-age rabbits produces a litter of $k$ rabbit pairs"
      ],
      "metadata": {
        "id": "ZxaAxODUz_qL"
      }
    },
    {
      "cell_type": "code",
      "execution_count": 1,
      "metadata": {
        "id": "MdahSnZsz5hL",
        "outputId": "b9c07a53-0d99-467b-899c-69a3df54e219",
        "colab": {
          "base_uri": "https://localhost:8080/",
          "height": 140
        }
      },
      "outputs": [
        {
          "output_type": "error",
          "ename": "SyntaxError",
          "evalue": "ignored",
          "traceback": [
            "\u001b[0;36m  File \u001b[0;32m\"<ipython-input-1-553b9a3c2406>\"\u001b[0;36m, line \u001b[0;32m5\u001b[0m\n\u001b[0;31m    for i in range(n):\u001b[0m\n\u001b[0m                      ^\u001b[0m\n\u001b[0;31mSyntaxError\u001b[0m\u001b[0;31m:\u001b[0m incomplete input\n"
          ]
        }
      ],
      "source": [
        "def rabbit_sequence(n, k):\n",
        "\n",
        "  num_rabbits = np.zeros(n)\n",
        "\n",
        "  for i in range(n):\n"
      ]
    },
    {
      "cell_type": "code",
      "source": [],
      "metadata": {
        "id": "fsnAr3TOoAcX"
      },
      "execution_count": null,
      "outputs": []
    }
  ]
}