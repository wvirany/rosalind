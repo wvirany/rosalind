{
  "nbformat": 4,
  "nbformat_minor": 0,
  "metadata": {
    "colab": {
      "provenance": [],
      "authorship_tag": "ABX9TyOydtwTD92BtqmfSDPimA8G",
      "include_colab_link": true
    },
    "kernelspec": {
      "name": "python3",
      "display_name": "Python 3"
    },
    "language_info": {
      "name": "python"
    }
  },
  "cells": [
    {
      "cell_type": "markdown",
      "metadata": {
        "id": "view-in-github",
        "colab_type": "text"
      },
      "source": [
        "<a href=\"https://colab.research.google.com/github/wvirany/rosalind/blob/main/solutions/rosalind06.ipynb\" target=\"_parent\"><img src=\"https://colab.research.google.com/assets/colab-badge.svg\" alt=\"Open In Colab\"/></a>"
      ]
    },
    {
      "cell_type": "markdown",
      "source": [
        "# Counting Point Mutations\n",
        "\n",
        "\n",
        "---\n",
        "\n",
        "\n",
        "### New Terms:\n",
        "* mutation - a mistake that occurs during the creation or copying of a nucleic acid\n",
        "* point mutation - a mutation that only affects a single nucleotide of nucleic acid\n",
        "* homologous - descending from the same ancestor\n",
        "* parsimony - the biological principle that nature tends to take the shortest path in evolution\n",
        "* Hamming distance - the minimum number of symbol substitutions required to change one string into another of equal length"
      ],
      "metadata": {
        "id": "CDN1SBx4J_nA"
      }
    },
    {
      "cell_type": "markdown",
      "source": [
        "### Problem:\n",
        "\n",
        "`Given`: Two DNA strings $s$ and $t$ of equal length (not exceeding 1 kbp)\n",
        "\n",
        "`Return`: The Hamming distance $d_H(s,t)$"
      ],
      "metadata": {
        "id": "QK1eJ0fvKscn"
      }
    },
    {
      "cell_type": "code",
      "execution_count": 6,
      "metadata": {
        "id": "m3kbKGLtJyqv"
      },
      "outputs": [],
      "source": [
        "def hamming_dist(s, t):\n",
        "\n",
        "  dist = 0\n",
        "\n",
        "  for i,j in enumerate(s):\n",
        "    if s[i] != t[i]:\n",
        "      dist += 1\n",
        "\n",
        "  return dist"
      ]
    },
    {
      "cell_type": "code",
      "source": [
        "# Sample data set:\n",
        "\n",
        "s = 'GAGCCTACTAACGGGAT'\n",
        "t = 'CATCGTAATGACGGCCT'\n",
        "\n",
        "print(hamming_dist(s,t))\n",
        "\n",
        "\n",
        "# Problem data set:\n",
        "\n",
        "s1 = 'TCCCACGCACCCGACAATCATGTGGATTTGTGGCGGCTGGGAGCTACCTGATTGTACTCCATAAATTTTTGATAGAGTCACGTCAGAATCCAATCCTTTGGGAGCATAGAATAGGCGACTGACTAAGAATTCAGGAAGTGTCACGGGATTTGACCTATGATAATGTCAGCCAAGCATCCCCCGCAGCGATGGATGGTACTGCGCGCAATGATAGTAATTCTAGTCGCCCATCTTTGTCCTCCATCCCTAATCGGTACGGATAGACTGGCCATCATCCAGTCGTCAGGCGAATGTTATAGCGTATGTTACGTCTTTTTACGGTGCAAATTAGCGTCTAACTAAGCCCATCTCCCACAAGCGATGGAGCTTCAGGGAATTGATTAAGAAACCTTATCAGTGGACGTGCGGAGATCCATCATGTCCTGCCGGAATCATATCGCCCGCAATCAATTGGACGACTCTCTCAAGTAATGTGAGAAAATTCCTACATCTCCACTCGAGTACCAATGTCCGTTCGGTCATGCCGCGCCTCGGGAAGTCTACACGCAGAGTGTATCCCAGATTTCGATTAAATGATCCCATTATTCTAAGTGGCCTCTTTATGGGATACCTGCGTAATTTGCGCCAGCTACGCATGCGTTTGGAAAGCAATGAGAGGTGGGACTTGCCCCTGGTGGTATAAGGCATGACACAACCCCCCTACTAGTCACGACTAGTGTGTAGAACTAGACGCAAGCGATAATGTCCCATCACGCTAGTCGTACGTCAAGAACAATTTATAGTAGTACAGGGGTCGAATGCCAATGGAGACCTCTCAGCCGGAACGGTACGCCTTTCGCCTGAGACCGCTTGTAACGGTACGACATTGGGTGACGAGTTGCTGGGATACAATGTGCAACCTGTCTTATCTAGTAGCACGATTCCCCGGTTCCAATCGCGGCAATTGTTAATT'\n",
        "t1 = 'TCACATACATCCGAGAAGCACTAGGCTTTTGGATGCCTTGAAGGCGGAAGTTTTTTCCAAATCCTGTGCTGACAGTCGGCCGTCCTAAACCACTCCTCTGGGACGGAAGAACCGGCTAGTGATTATGAACGCCCGATATGCCACATCGGAAAAGCTGTAAGTATGGTACCCATTCAGACTCCTTCGTATCAGATGGGCCGACGGTCATACATAGGAGTTCCCATCGCCAATCTTCTGCTGCCGACATTAATTAACAACGATGTAATGTGCGACTTTCATGCGGGTGCCGATGAAATCTGGGTCATTTGGATTAACTTCCTGTACCCGATGGCGACCTACTGACAGCTACACCCCGTTTTCTGGTGCACCAGGCTAGTCACTCGGGAAGATGTGTGTACTGACGGGCGGAGGGCTAAATTCCCCCGTGGGAACTATACCGTGGGCTGACCGCTGATCGATTGCTGTCTGGAACGTGAAAATTCCCATATTTAAACATTCGAGTAATAAGTCGCGCTATGGCATGACGAGTCCCGGCGGTTTTCTGAACAGGATGAATCCCTCTGTTTCATTCAAAGTTCCCTGTATTATGAAAGGGCGGTTGAATTGAGCCCCTCGTGCTATACGGTAGTTGCCTATCGAATAGGAGAACTGAGTCCGTTGGGTAGTGTACCGCGCCGTCCACGGATTGACCCACCCCACCTACGTGTCACATCCCGCACGTCGCATCGGGAGCGATTGACTTCGACCCCTTATAGTTCCAGTACAACAAGAGCTTGATAGAGACGTACTAGTAGCGATTCTGAGTACACCTATCACGTCCTTGAGGTGGTACCAGTGCGCCGAGGCCTTATCAGGCTCTATGAAATTGGGTTATCGTGAGTATGGATAGAGTGTACTTACTGGTCAAGATAGTATTATGCTTGGAGGGGAATAATCGGGGTCATTGCTAGTT'\n",
        "\n",
        "print(hamming_dist(s1, t1))"
      ],
      "metadata": {
        "id": "FiD3s3-WLliH",
        "outputId": "d30361f5-3302-48c4-bd9d-deee1bb33ebd",
        "colab": {
          "base_uri": "https://localhost:8080/"
        }
      },
      "execution_count": 8,
      "outputs": [
        {
          "output_type": "stream",
          "name": "stdout",
          "text": [
            "7\n",
            "480\n"
          ]
        }
      ]
    }
  ]
}